{
  "nbformat": 4,
  "nbformat_minor": 0,
  "metadata": {
    "colab": {
      "name": "homework3_cartpole.ipynb",
      "provenance": [],
      "collapsed_sections": [],
      "toc_visible": true
    },
    "kernelspec": {
      "display_name": "Python 3",
      "name": "python3"
    },
    "language_info": {
      "version": "3.8.5-final"
    },
    "widgets": {
      "application/vnd.jupyter.widget-state+json": {
        "ee9479e3fa1243a5a9773e6625108b37": {
          "model_module": "@jupyter-widgets/controls",
          "model_name": "HBoxModel",
          "state": {
            "_view_name": "HBoxView",
            "_dom_classes": [],
            "_model_name": "HBoxModel",
            "_view_module": "@jupyter-widgets/controls",
            "_model_module_version": "1.5.0",
            "_view_count": null,
            "_view_module_version": "1.5.0",
            "box_style": "",
            "layout": "IPY_MODEL_bebdcc36a8914530b339f08d898cc2c1",
            "_model_module": "@jupyter-widgets/controls",
            "children": [
              "IPY_MODEL_6de2fc07b2664d78b53a2e0b00faae4a",
              "IPY_MODEL_7a85125ec47948b4972417f285b89b37"
            ]
          },
          "model_module_version": "1.5.0"
        },
        "bebdcc36a8914530b339f08d898cc2c1": {
          "model_module": "@jupyter-widgets/base",
          "model_name": "LayoutModel",
          "state": {
            "_view_name": "LayoutView",
            "grid_template_rows": null,
            "right": null,
            "justify_content": null,
            "_view_module": "@jupyter-widgets/base",
            "overflow": null,
            "_model_module_version": "1.2.0",
            "_view_count": null,
            "flex_flow": null,
            "width": null,
            "min_width": null,
            "border": null,
            "align_items": null,
            "bottom": null,
            "_model_module": "@jupyter-widgets/base",
            "top": null,
            "grid_column": null,
            "overflow_y": null,
            "overflow_x": null,
            "grid_auto_flow": null,
            "grid_area": null,
            "grid_template_columns": null,
            "flex": null,
            "_model_name": "LayoutModel",
            "justify_items": null,
            "grid_row": null,
            "max_height": null,
            "align_content": null,
            "visibility": null,
            "align_self": null,
            "height": null,
            "min_height": null,
            "padding": null,
            "grid_auto_rows": null,
            "grid_gap": null,
            "max_width": null,
            "order": null,
            "_view_module_version": "1.2.0",
            "grid_template_areas": null,
            "object_position": null,
            "object_fit": null,
            "grid_auto_columns": null,
            "margin": null,
            "display": null,
            "left": null
          },
          "model_module_version": "1.2.0"
        },
        "6de2fc07b2664d78b53a2e0b00faae4a": {
          "model_module": "@jupyter-widgets/controls",
          "model_name": "FloatProgressModel",
          "state": {
            "_view_name": "ProgressView",
            "style": "IPY_MODEL_067aecc87d864eb6904014f757a1656c",
            "_dom_classes": [],
            "description": "100%",
            "_model_name": "FloatProgressModel",
            "bar_style": "success",
            "max": 500,
            "_view_module": "@jupyter-widgets/controls",
            "_model_module_version": "1.5.0",
            "value": 500,
            "_view_count": null,
            "_view_module_version": "1.5.0",
            "orientation": "horizontal",
            "min": 0,
            "description_tooltip": null,
            "_model_module": "@jupyter-widgets/controls",
            "layout": "IPY_MODEL_1f484b1414fe4e8cab166d46f22ab42e"
          },
          "model_module_version": "1.5.0"
        },
        "7a85125ec47948b4972417f285b89b37": {
          "model_module": "@jupyter-widgets/controls",
          "model_name": "HTMLModel",
          "state": {
            "_view_name": "HTMLView",
            "style": "IPY_MODEL_8dda66b1e8ed496985ef062df55b7985",
            "_dom_classes": [],
            "description": "",
            "_model_name": "HTMLModel",
            "placeholder": "​",
            "_view_module": "@jupyter-widgets/controls",
            "_model_module_version": "1.5.0",
            "value": " 500/500 [10:29&lt;00:00,  1.26s/it]",
            "_view_count": null,
            "_view_module_version": "1.5.0",
            "description_tooltip": null,
            "_model_module": "@jupyter-widgets/controls",
            "layout": "IPY_MODEL_8a054b49e9a54f6ea33e2f69d3e08d7a"
          },
          "model_module_version": "1.5.0"
        },
        "067aecc87d864eb6904014f757a1656c": {
          "model_module": "@jupyter-widgets/controls",
          "model_name": "ProgressStyleModel",
          "state": {
            "_view_name": "StyleView",
            "_model_name": "ProgressStyleModel",
            "description_width": "initial",
            "_view_module": "@jupyter-widgets/base",
            "_model_module_version": "1.5.0",
            "_view_count": null,
            "_view_module_version": "1.2.0",
            "bar_color": null,
            "_model_module": "@jupyter-widgets/controls"
          },
          "model_module_version": "1.5.0"
        },
        "1f484b1414fe4e8cab166d46f22ab42e": {
          "model_module": "@jupyter-widgets/base",
          "model_name": "LayoutModel",
          "state": {
            "_view_name": "LayoutView",
            "grid_template_rows": null,
            "right": null,
            "justify_content": null,
            "_view_module": "@jupyter-widgets/base",
            "overflow": null,
            "_model_module_version": "1.2.0",
            "_view_count": null,
            "flex_flow": null,
            "width": null,
            "min_width": null,
            "border": null,
            "align_items": null,
            "bottom": null,
            "_model_module": "@jupyter-widgets/base",
            "top": null,
            "grid_column": null,
            "overflow_y": null,
            "overflow_x": null,
            "grid_auto_flow": null,
            "grid_area": null,
            "grid_template_columns": null,
            "flex": null,
            "_model_name": "LayoutModel",
            "justify_items": null,
            "grid_row": null,
            "max_height": null,
            "align_content": null,
            "visibility": null,
            "align_self": null,
            "height": null,
            "min_height": null,
            "padding": null,
            "grid_auto_rows": null,
            "grid_gap": null,
            "max_width": null,
            "order": null,
            "_view_module_version": "1.2.0",
            "grid_template_areas": null,
            "object_position": null,
            "object_fit": null,
            "grid_auto_columns": null,
            "margin": null,
            "display": null,
            "left": null
          },
          "model_module_version": "1.2.0"
        },
        "8dda66b1e8ed496985ef062df55b7985": {
          "model_module": "@jupyter-widgets/controls",
          "model_name": "DescriptionStyleModel",
          "state": {
            "_view_name": "StyleView",
            "_model_name": "DescriptionStyleModel",
            "description_width": "",
            "_view_module": "@jupyter-widgets/base",
            "_model_module_version": "1.5.0",
            "_view_count": null,
            "_view_module_version": "1.2.0",
            "_model_module": "@jupyter-widgets/controls"
          },
          "model_module_version": "1.5.0"
        },
        "8a054b49e9a54f6ea33e2f69d3e08d7a": {
          "model_module": "@jupyter-widgets/base",
          "model_name": "LayoutModel",
          "state": {
            "_view_name": "LayoutView",
            "grid_template_rows": null,
            "right": null,
            "justify_content": null,
            "_view_module": "@jupyter-widgets/base",
            "overflow": null,
            "_model_module_version": "1.2.0",
            "_view_count": null,
            "flex_flow": null,
            "width": null,
            "min_width": null,
            "border": null,
            "align_items": null,
            "bottom": null,
            "_model_module": "@jupyter-widgets/base",
            "top": null,
            "grid_column": null,
            "overflow_y": null,
            "overflow_x": null,
            "grid_auto_flow": null,
            "grid_area": null,
            "grid_template_columns": null,
            "flex": null,
            "_model_name": "LayoutModel",
            "justify_items": null,
            "grid_row": null,
            "max_height": null,
            "align_content": null,
            "visibility": null,
            "align_self": null,
            "height": null,
            "min_height": null,
            "padding": null,
            "grid_auto_rows": null,
            "grid_gap": null,
            "max_width": null,
            "order": null,
            "_view_module_version": "1.2.0",
            "grid_template_areas": null,
            "object_position": null,
            "object_fit": null,
            "grid_auto_columns": null,
            "margin": null,
            "display": null,
            "left": null
          },
          "model_module_version": "1.2.0"
        }
      }
    }
  },
  "cells": [
    {
      "cell_type": "markdown",
      "source": [
        "# Import libraries"
      ],
      "metadata": {
        "id": "38XkW-gSf1br"
      }
    },
    {
      "cell_type": "code",
      "metadata": {
        "id": "jBelL8nBZVsn",
        "colab": {
          "base_uri": "https://localhost:8080/"
        },
        "outputId": "5a1374ff-b8fe-466f-d335-c9988fc6a2f1"
      },
      "source": [
        "!pip install gym"
      ],
      "execution_count": null,
      "outputs": [
        {
          "output_type": "stream",
          "text": [
            "Requirement already satisfied: gym in /usr/local/lib/python3.6/dist-packages (0.17.3)\n",
            "Requirement already satisfied: pyglet<=1.5.0,>=1.4.0 in /usr/local/lib/python3.6/dist-packages (from gym) (1.5.0)\n",
            "Requirement already satisfied: scipy in /usr/local/lib/python3.6/dist-packages (from gym) (1.4.1)\n",
            "Requirement already satisfied: cloudpickle<1.7.0,>=1.2.0 in /usr/local/lib/python3.6/dist-packages (from gym) (1.3.0)\n",
            "Requirement already satisfied: numpy>=1.10.4 in /usr/local/lib/python3.6/dist-packages (from gym) (1.19.5)\n",
            "Requirement already satisfied: future in /usr/local/lib/python3.6/dist-packages (from pyglet<=1.5.0,>=1.4.0->gym) (0.16.0)\n"
          ],
          "name": "stdout"
        }
      ]
    },
    {
      "cell_type": "code",
      "metadata": {
        "id": "a7EkHQ0VsNnJ"
      },
      "source": [
        "import random\n",
        "import torch\n",
        "import numpy as np\n",
        "import gym\n",
        "import matplotlib.pyplot as plt\n",
        "from tqdm.notebook import tqdm\n",
        "\n",
        "from torch import nn\n",
        "from collections import deque # this python module implements exactly what we need for the replay memeory"
      ],
      "execution_count": null,
      "outputs": []
    },
    {
      "cell_type": "markdown",
      "metadata": {
        "id": "LKzDB1SPZYY1"
      },
      "source": [
        "# Enable gym environment rendering in Colab\n",
        "\n",
        "> This section is not required if you are executing the notebook in a local environment. It enables the video generation from Gym environments, and it is only required in Colab since we do not have access to a screen.\n",
        "\n",
        "Source: https://colab.research.google.com/drive/18LdlDDT87eb8cCTHZsXyS9ksQPzL3i6H"
      ]
    },
    {
      "cell_type": "code",
      "metadata": {
        "id": "V0HIwpatSteb",
        "colab": {
          "base_uri": "https://localhost:8080/"
        },
        "outputId": "6f23aa34-f391-4b90-bbb3-452b29a1c8a7"
      },
      "source": [
        "!apt update\n",
        "!apt-get install python-opengl -y\n",
        "!apt install xvfb -y\n",
        "!pip install pyvirtualdisplay\n",
        "!pip install piglet"
      ],
      "execution_count": null,
      "outputs": [
        {
          "output_type": "stream",
          "text": [
            "\u001b[33m\r0% [Working]\u001b[0m\r            \rIgn:1 https://developer.download.nvidia.com/compute/cuda/repos/ubuntu1804/x86_64  InRelease\n",
            "\u001b[33m\r0% [Connecting to archive.ubuntu.com (91.189.88.152)] [Waiting for headers] [Wa\u001b[0m\r                                                                               \rGet:2 https://cloud.r-project.org/bin/linux/ubuntu bionic-cran40/ InRelease [3,626 B]\n",
            "\u001b[33m\r0% [Connecting to archive.ubuntu.com (91.189.88.152)] [Waiting for headers] [2 \u001b[0m\u001b[33m\r0% [Connecting to archive.ubuntu.com (91.189.88.152)] [Waiting for headers] [Co\u001b[0m\u001b[33m\r0% [2 InRelease gpgv 3,626 B] [Connecting to archive.ubuntu.com (91.189.88.152)\u001b[0m\r                                                                               \rIgn:3 https://developer.download.nvidia.com/compute/machine-learning/repos/ubuntu1804/x86_64  InRelease\n",
            "\u001b[33m\r0% [2 InRelease gpgv 3,626 B] [Waiting for headers] [Waiting for headers] [Wait\u001b[0m\r                                                                               \rHit:4 https://developer.download.nvidia.com/compute/cuda/repos/ubuntu1804/x86_64  Release\n",
            "\u001b[33m\r0% [2 InRelease gpgv 3,626 B] [Waiting for headers] [Waiting for headers] [Wait\u001b[0m\r                                                                               \rHit:5 https://developer.download.nvidia.com/compute/machine-learning/repos/ubuntu1804/x86_64  Release\n",
            "\u001b[33m\r0% [2 InRelease gpgv 3,626 B] [Waiting for headers] [Waiting for headers] [Wait\u001b[0m\r                                                                               \rGet:6 http://security.ubuntu.com/ubuntu bionic-security InRelease [88.7 kB]\n",
            "\u001b[33m\r0% [2 InRelease gpgv 3,626 B] [Waiting for headers] [6 InRelease 14.2 kB/88.7 k\u001b[0m\r                                                                               \rGet:7 http://ppa.launchpad.net/c2d4u.team/c2d4u4.0+/ubuntu bionic InRelease [15.9 kB]\n",
            "Hit:8 http://archive.ubuntu.com/ubuntu bionic InRelease\n",
            "Get:9 http://archive.ubuntu.com/ubuntu bionic-updates InRelease [88.7 kB]\n",
            "Hit:10 http://ppa.launchpad.net/cran/libgit2/ubuntu bionic InRelease\n",
            "Hit:12 http://ppa.launchpad.net/graphics-drivers/ppa/ubuntu bionic InRelease\n",
            "Get:13 http://archive.ubuntu.com/ubuntu bionic-backports InRelease [74.6 kB]\n",
            "Get:15 http://ppa.launchpad.net/c2d4u.team/c2d4u4.0+/ubuntu bionic/main Sources [1,716 kB]\n",
            "Get:16 http://archive.ubuntu.com/ubuntu bionic-updates/universe amd64 Packages [2,149 kB]\n",
            "Get:17 http://ppa.launchpad.net/c2d4u.team/c2d4u4.0+/ubuntu bionic/main amd64 Packages [878 kB]\n",
            "Fetched 5,015 kB in 3s (1,692 kB/s)\n",
            "Reading package lists... Done\n",
            "Building dependency tree       \n",
            "Reading state information... Done\n",
            "19 packages can be upgraded. Run 'apt list --upgradable' to see them.\n",
            "Reading package lists... Done\n",
            "Building dependency tree       \n",
            "Reading state information... Done\n",
            "Suggested packages:\n",
            "  libgle3\n",
            "The following NEW packages will be installed:\n",
            "  python-opengl\n",
            "0 upgraded, 1 newly installed, 0 to remove and 19 not upgraded.\n",
            "Need to get 496 kB of archives.\n",
            "After this operation, 5,416 kB of additional disk space will be used.\n",
            "Get:1 http://archive.ubuntu.com/ubuntu bionic/universe amd64 python-opengl all 3.1.0+dfsg-1 [496 kB]\n",
            "Fetched 496 kB in 1s (580 kB/s)\n",
            "Selecting previously unselected package python-opengl.\n",
            "(Reading database ... 146374 files and directories currently installed.)\n",
            "Preparing to unpack .../python-opengl_3.1.0+dfsg-1_all.deb ...\n",
            "Unpacking python-opengl (3.1.0+dfsg-1) ...\n",
            "Setting up python-opengl (3.1.0+dfsg-1) ...\n",
            "Reading package lists... Done\n",
            "Building dependency tree       \n",
            "Reading state information... Done\n",
            "The following NEW packages will be installed:\n",
            "  xvfb\n",
            "0 upgraded, 1 newly installed, 0 to remove and 19 not upgraded.\n",
            "Need to get 784 kB of archives.\n",
            "After this operation, 2,270 kB of additional disk space will be used.\n",
            "Get:1 http://archive.ubuntu.com/ubuntu bionic-updates/universe amd64 xvfb amd64 2:1.19.6-1ubuntu4.8 [784 kB]\n",
            "Fetched 784 kB in 1s (812 kB/s)\n",
            "Selecting previously unselected package xvfb.\n",
            "(Reading database ... 148729 files and directories currently installed.)\n",
            "Preparing to unpack .../xvfb_2%3a1.19.6-1ubuntu4.8_amd64.deb ...\n",
            "Unpacking xvfb (2:1.19.6-1ubuntu4.8) ...\n",
            "Setting up xvfb (2:1.19.6-1ubuntu4.8) ...\n",
            "Processing triggers for man-db (2.8.3-2ubuntu0.1) ...\n",
            "Collecting pyvirtualdisplay\n",
            "  Downloading https://files.pythonhosted.org/packages/ad/05/6568620fed440941b704664b9cfe5f836ad699ac7694745e7787fbdc8063/PyVirtualDisplay-2.0-py2.py3-none-any.whl\n",
            "Collecting EasyProcess\n",
            "  Downloading https://files.pythonhosted.org/packages/48/3c/75573613641c90c6d094059ac28adb748560d99bd27ee6f80cce398f404e/EasyProcess-0.3-py2.py3-none-any.whl\n",
            "Installing collected packages: EasyProcess, pyvirtualdisplay\n",
            "Successfully installed EasyProcess-0.3 pyvirtualdisplay-2.0\n",
            "Collecting piglet\n",
            "  Downloading https://files.pythonhosted.org/packages/11/56/6840e5f45626dc7eb7cd5dff57d11880b3113723b3b7b1fb1fa537855b75/piglet-1.0.0-py2.py3-none-any.whl\n",
            "Collecting piglet-templates\n",
            "\u001b[?25l  Downloading https://files.pythonhosted.org/packages/34/1e/49d7e0df9420eeb13a636487b8e606cf099f2ee0793159edd8ffe905125b/piglet_templates-1.1.0-py3-none-any.whl (63kB)\n",
            "\u001b[K     |████████████████████████████████| 71kB 3.7MB/s \n",
            "\u001b[?25hRequirement already satisfied: astunparse in /usr/local/lib/python3.6/dist-packages (from piglet-templates->piglet) (1.6.3)\n",
            "Requirement already satisfied: attrs in /usr/local/lib/python3.6/dist-packages (from piglet-templates->piglet) (20.3.0)\n",
            "Collecting Parsley\n",
            "\u001b[?25l  Downloading https://files.pythonhosted.org/packages/2b/d6/4fed8d65e28a970e1c5cb33ce9c7e22e3de745e1b2ae37af051ef16aea3b/Parsley-1.3-py2.py3-none-any.whl (88kB)\n",
            "\u001b[K     |████████████████████████████████| 92kB 4.6MB/s \n",
            "\u001b[?25hRequirement already satisfied: markupsafe in /usr/local/lib/python3.6/dist-packages (from piglet-templates->piglet) (1.1.1)\n",
            "Requirement already satisfied: wheel<1.0,>=0.23.0 in /usr/local/lib/python3.6/dist-packages (from astunparse->piglet-templates->piglet) (0.36.2)\n",
            "Requirement already satisfied: six<2.0,>=1.6.1 in /usr/local/lib/python3.6/dist-packages (from astunparse->piglet-templates->piglet) (1.15.0)\n",
            "Installing collected packages: Parsley, piglet-templates, piglet\n",
            "Successfully installed Parsley-1.3 piglet-1.0.0 piglet-templates-1.1.0\n"
          ],
          "name": "stdout"
        }
      ]
    },
    {
      "cell_type": "code",
      "metadata": {
        "id": "jxM-vHKz1r_M"
      },
      "source": [
        "import glob\n",
        "import io\n",
        "import base64\n",
        "import os\n",
        "from IPython.display import HTML\n",
        "from IPython import display as ipythondisplay\n",
        "from pyvirtualdisplay import Display\n",
        "from gym.wrappers import Monitor"
      ],
      "execution_count": null,
      "outputs": []
    },
    {
      "cell_type": "code",
      "metadata": {
        "id": "E0oXbzI2ZAfv",
        "colab": {
          "base_uri": "https://localhost:8080/"
        },
        "outputId": "1f5f2c91-24ad-40cd-fd7e-153cf467f4e9"
      },
      "source": [
        "display = Display(visible=0, size=(1400, 900))\n",
        "display.start()"
      ],
      "execution_count": null,
      "outputs": [
        {
          "output_type": "execute_result",
          "data": {
            "text/plain": [
              "<pyvirtualdisplay.display.Display at 0x7fa013d8fc50>"
            ]
          },
          "metadata": {
            "tags": []
          },
          "execution_count": 5
        }
      ]
    },
    {
      "cell_type": "code",
      "metadata": {
        "id": "yr5j5rz0ZEJf"
      },
      "source": [
        "# This code creates a virtual display to draw game images on. \n",
        "# If you are running locally, just ignore it\n",
        "if type(os.environ.get(\"DISPLAY\")) is not str or len(os.environ.get(\"DISPLAY\"))==0:\n",
        "    !bash ../xvfb start\n",
        "    %env DISPLAY=:1"
      ],
      "execution_count": null,
      "outputs": []
    },
    {
      "cell_type": "code",
      "metadata": {
        "id": "StaxWEA0Z-O1"
      },
      "source": [
        "\"\"\"\n",
        "Utility functions to enable video recording of gym environment and displaying it\n",
        "To enable video, just do \"env = wrap_env(env)\"\"\n",
        "\"\"\"\n",
        "\n",
        "def show_videos():\n",
        "  mp4list = glob.glob('video/*.mp4')\n",
        "  mp4list.sort()\n",
        "  for mp4 in mp4list:\n",
        "    print(f\"\\nSHOWING VIDEO {mp4}\")\n",
        "    video = io.open(mp4, 'r+b').read()\n",
        "    encoded = base64.b64encode(video)\n",
        "    ipythondisplay.display(HTML(data='''<video alt=\"test\" autoplay \n",
        "                loop controls style=\"height: 400px;\">\n",
        "                <source src=\"data:video/mp4;base64,{0}\" type=\"video/mp4\" />\n",
        "             </video>'''.format(encoded.decode('ascii'))))\n",
        "    \n",
        "def wrap_env(env, video_callable=None):\n",
        "  env = Monitor(env, './video', force=True, video_callable=video_callable)\n",
        "  return env"
      ],
      "execution_count": null,
      "outputs": []
    },
    {
      "cell_type": "markdown",
      "metadata": {
        "id": "wA_0gAmJfFlT"
      },
      "source": [
        "# Experience replay (Replay Memory)"
      ]
    },
    {
      "cell_type": "code",
      "metadata": {
        "id": "1axKWEBl8uik"
      },
      "source": [
        "class ReplayMemory(object):\n",
        "\n",
        "    def __init__(self, capacity):\n",
        "        self.memory = deque(maxlen=capacity) # Define a queue with maxlen \"capacity\"\n",
        "\n",
        "    def push(self, state, action, next_state, reward):\n",
        "        self.memory.append( (state, action, next_state, reward) ) # Add the tuple (state, action, next_state, reward) to the queue\n",
        "\n",
        "    def sample(self, batch_size):\n",
        "        batch_size = min(batch_size, len(self)) # Get all the samples if the requested batch_size is higher than the number of sample currently in the memory\n",
        "        return random.sample(self.memory, batch_size) # Randomly select \"batch_size\" samples\n",
        "\n",
        "    def __len__(self):\n",
        "        return len(self.memory) # Return the number of samples currently stored in the memory"
      ],
      "execution_count": null,
      "outputs": []
    },
    {
      "cell_type": "markdown",
      "metadata": {
        "id": "74v3ChPPqox3"
      },
      "source": [
        "Test if it works as expected."
      ]
    },
    {
      "cell_type": "code",
      "metadata": {
        "id": "mtwQjNqjaT4E",
        "colab": {
          "base_uri": "https://localhost:8080/"
        },
        "outputId": "348f1ead-f007-4544-8171-15eb0e9dcea4"
      },
      "source": [
        "# Define the replay memory\n",
        "replay_mem = ReplayMemory(capacity=3)\n",
        "\n",
        "# Push some samples\n",
        "print(f\"CURRENT MEMORY SIZE: {len(replay_mem)}\")\n",
        "replay_mem.push(1,1,1,1)\n",
        "print(f\"CURRENT MEMORY SIZE: {len(replay_mem)}\")\n",
        "replay_mem.push(2,2,2,2)\n",
        "print(f\"CURRENT MEMORY SIZE: {len(replay_mem)}\")\n",
        "replay_mem.push(3,3,3,3)\n",
        "print(f\"CURRENT MEMORY SIZE: {len(replay_mem)}\")\n",
        "replay_mem.push(4,4,4,4)\n",
        "print(f\"CURRENT MEMORY SIZE: {len(replay_mem)}\")\n",
        "replay_mem.push(5,5,5,5)\n",
        "print(f\"CURRENT MEMORY SIZE: {len(replay_mem)}\")\n",
        "\n",
        "# Check the content of the memory\n",
        "print('\\nCONTENT OF THE MEMORY')\n",
        "print(replay_mem.memory)\n",
        "\n",
        "# Random sample\n",
        "print('\\nRANDOM SAMPLING')\n",
        "for i in range(5):\n",
        "  print(replay_mem.sample(2)) # Select 2 samples randomly from the memory"
      ],
      "execution_count": null,
      "outputs": [
        {
          "output_type": "stream",
          "text": [
            "CURRENT MEMORY SIZE: 0\n",
            "CURRENT MEMORY SIZE: 1\n",
            "CURRENT MEMORY SIZE: 2\n",
            "CURRENT MEMORY SIZE: 3\n",
            "CURRENT MEMORY SIZE: 3\n",
            "CURRENT MEMORY SIZE: 3\n",
            "\n",
            "CONTENT OF THE MEMORY\n",
            "deque([(3, 3, 3, 3), (4, 4, 4, 4), (5, 5, 5, 5)], maxlen=3)\n",
            "\n",
            "RANDOM SAMPLING\n",
            "[(3, 3, 3, 3), (4, 4, 4, 4)]\n",
            "[(3, 3, 3, 3), (5, 5, 5, 5)]\n",
            "[(3, 3, 3, 3), (5, 5, 5, 5)]\n",
            "[(3, 3, 3, 3), (4, 4, 4, 4)]\n",
            "[(3, 3, 3, 3), (5, 5, 5, 5)]\n"
          ],
          "name": "stdout"
        }
      ]
    },
    {
      "cell_type": "markdown",
      "metadata": {
        "id": "kK0iwb3Vn0cz"
      },
      "source": [
        "# PER Memory"
      ]
    },
    {
      "cell_type": "code",
      "metadata": {
        "id": "CCFPGinJXuFD"
      },
      "source": [
        "class SumTree(object):\n",
        "    data_pointer = 0\n",
        "    \n",
        "    # Here we initialize the tree with all nodes = 0, and initialize the data with all values = 0\n",
        "    def __init__(self, capacity):\n",
        "        # Number of leaf nodes (final nodes) that contains experiences\n",
        "        self.capacity = capacity\n",
        "        \n",
        "        # Generate the tree with all nodes values = 0\n",
        "        # To understand this calculation (2 * capacity - 1) look at the schema below\n",
        "        # Remember we are in a binary node (each node has max 2 children) so 2x size of leaf (capacity) - 1 (root node)\n",
        "        # Parent nodes = capacity - 1\n",
        "        # Leaf nodes = capacity\n",
        "        self.tree = np.zeros(2 * capacity - 1)\n",
        "        \n",
        "        # Contains the experiences (so the size of data is capacity)\n",
        "        #self.data = np.zeros([capacity,4], dtype=object)\n",
        "        elemento = [(0,0,0,0)]\n",
        "        self.data = elemento*capacity   #modificato  \n",
        "    \n",
        "    \n",
        "    # Here we define function that will add our priority score in the sumtree leaf and add the experience in data:\n",
        "    def add(self, priority, data):\n",
        "        # Look at what index we want to put the experience\n",
        "        tree_index = self.data_pointer + self.capacity - 1\n",
        "\n",
        "        # Update data frame\n",
        "        self.data[self.data_pointer] = data\n",
        "\n",
        "        # Update the leaf\n",
        "        self.update (tree_index, priority)\n",
        "\n",
        "        # Add 1 to data_pointer\n",
        "        self.data_pointer += 1\n",
        "\n",
        "        if self.data_pointer >= self.capacity:  # If we're above the capacity, we go back to first index (we overwrite)\n",
        "            self.data_pointer = 0\n",
        "            \n",
        "    # Update the leaf priority score and propagate the change through tree\n",
        "    def update(self, tree_index, priority):\n",
        "        # Change = new priority score - former priority score\n",
        "        change = priority - self.tree[tree_index]\n",
        "        self.tree[tree_index] = priority\n",
        "\n",
        "        # then propagate the change through tree\n",
        "        # this method is faster than the recursive loop in the reference code\n",
        "        while tree_index != 0:\n",
        "            tree_index = (tree_index - 1) // 2\n",
        "            self.tree[tree_index] += change\n",
        "        \n",
        "    # Here build a function to get a leaf from our tree. So we'll build a function to get the leaf_index, priority value of that leaf and experience associated with that leaf index:\n",
        "    def get_leaf(self, v):\n",
        "        parent_index = 0\n",
        "\n",
        "        # the while loop is faster than the method in the reference code\n",
        "        while True:\n",
        "            left_child_index = 2 * parent_index + 1\n",
        "            right_child_index = left_child_index + 1\n",
        "\n",
        "            # If we reach bottom, end the search\n",
        "            if left_child_index >= len(self.tree):\n",
        "                leaf_index = parent_index\n",
        "                break\n",
        "            else: # downward search, always search for a higher priority node\n",
        "                if v <= self.tree[left_child_index]:\n",
        "                    parent_index = left_child_index\n",
        "                else:\n",
        "                    v -= self.tree[left_child_index]\n",
        "                    parent_index = right_child_index\n",
        "\n",
        "        data_index = leaf_index - self.capacity + 1\n",
        "\n",
        "        return leaf_index, self.tree[leaf_index], self.data[data_index]\n",
        "    \n",
        "    \n",
        "    def total_priority(self):\n",
        "        return self.tree[0] # Returns the root node"
      ],
      "execution_count": null,
      "outputs": []
    },
    {
      "cell_type": "code",
      "metadata": {
        "id": "xP0ppW3yX6Ag"
      },
      "source": [
        "class Memory(object):  # stored as ( state, action, reward, next_state ) in SumTree\n",
        "    PER_e = 0.01  # Hyperparameter that we use to avoid some experiences to have 0 probability of being taken\n",
        "    PER_a = 0.6  # Hyperparameter that we use to make a tradeoff between taking only exp with high priority and sampling randomly\n",
        "    PER_b = 0.4  # importance-sampling, from initial value increasing to 1\n",
        "    \n",
        "    PER_b_increment_per_sampling = 0.001\n",
        "    \n",
        "    absolute_error_upper = 1.  # clipped abs error\n",
        "\n",
        "    def __init__(self, capacity):\n",
        "        # Making the tree \n",
        "        self.tree = SumTree(capacity)\n",
        "        \n",
        "    # Next, we define a function to store a new experience in our tree.\n",
        "    # Each new experience will have a score of max_prority (it will be then improved when we use this exp to train our DDQN).\n",
        "    def store(self, experience):\n",
        "        # Find the max priority\n",
        "        max_priority = np.max(self.tree.tree[-self.tree.capacity:])\n",
        "\n",
        "        # If the max priority = 0 we can't put priority = 0 since this experience will never have a chance to be selected\n",
        "        # So we use a minimum priority\n",
        "        if max_priority == 0:\n",
        "            max_priority = self.absolute_error_upper\n",
        "\n",
        "        self.tree.add(max_priority, experience)   # set the max priority for new priority\n",
        "        \n",
        "    # Now we create sample function, which will be used to pick batch from our tree memory, which will be used to train our model.\n",
        "    # - First, we sample a minibatch of n size, the range [0, priority_total] into priority ranges.\n",
        "    # - Then a value is uniformly sampled from each range.\n",
        "    # - Then we search in the sumtree, for the experience where priority score correspond to sample values are retrieved from.\n",
        "    def sample(self, n):\n",
        "        # Create a minibatch array that will contains the minibatch\n",
        "        minibatch = []\n",
        "\n",
        "        b_idx = np.empty((n,), dtype=np.int32)\n",
        "        \n",
        "        # Calculate the priority segment\n",
        "        # Here, as explained in the paper, we divide the Range[0, ptotal] into n ranges\n",
        "        priority_segment = self.tree.total_priority() / n       # priority segment\n",
        "\n",
        "        for i in range(n):\n",
        "            # A value is uniformly sample from each range\n",
        "            a, b = priority_segment * i, priority_segment * (i + 1)\n",
        "            value = np.random.uniform(a, b)\n",
        "\n",
        "            # Experience that correspond to each value is retrieved\n",
        "            index, priority, data = self.tree.get_leaf(value)\n",
        "\n",
        "            b_idx[i]= index\n",
        "\n",
        "            minibatch.append([data[0],data[1],data[2],data[3]])#tolto data 4 e parentesi graffe\n",
        "\n",
        "        return b_idx, minibatch\n",
        "    \n",
        "    # Update the priorities on the tree\n",
        "    def batch_update(self, tree_idx, abs_errors):\n",
        "        abs_errors += self.PER_e  # convert to abs and avoid 0\n",
        "        clipped_errors = np.minimum(abs_errors, self.absolute_error_upper)\n",
        "        ps = np.power(clipped_errors, self.PER_a)\n",
        "       \n",
        "        for ti, p in zip(tree_idx, ps):\n",
        "            self.tree.update(ti, p)"
      ],
      "execution_count": null,
      "outputs": []
    },
    {
      "cell_type": "markdown",
      "metadata": {
        "id": "Y-nBdx6KfKNE"
      },
      "source": [
        "# Policy network"
      ]
    },
    {
      "cell_type": "markdown",
      "metadata": {
        "id": "-rdsRx6wfZw1"
      },
      "source": [
        "## Network definition"
      ]
    },
    {
      "cell_type": "code",
      "metadata": {
        "id": "W41rXekb8x7K"
      },
      "source": [
        "class DQN(nn.Module):\n",
        "\n",
        "    def __init__(self, state_space_dim, action_space_dim):\n",
        "        super().__init__()\n",
        "\n",
        "        self.linear = nn.Sequential(\n",
        "                nn.Linear(state_space_dim, 128),\n",
        "                nn.Tanh(),\n",
        "                nn.Linear(128, 128),\n",
        "                nn.Tanh(),\n",
        "                nn.Linear(128, action_space_dim)\n",
        "                )\n",
        "\n",
        "    def forward(self, x):\n",
        "        return self.linear(x)"
      ],
      "execution_count": null,
      "outputs": []
    },
    {
      "cell_type": "code",
      "metadata": {
        "id": "tLPAsTT4gpeW"
      },
      "source": [
        "# Define an example network\n",
        "net = DQN(state_space_dim=4, action_space_dim=2)"
      ],
      "execution_count": null,
      "outputs": []
    },
    {
      "cell_type": "markdown",
      "metadata": {
        "id": "ynfEXqjGfbpl"
      },
      "source": [
        "## Exploration Policy"
      ]
    },
    {
      "cell_type": "markdown",
      "metadata": {
        "id": "3x-kRJbQfqBR"
      },
      "source": [
        "### Epsilon-greedy policy\n"
      ]
    },
    {
      "cell_type": "code",
      "metadata": {
        "id": "ZXfh_Ub1fv4c"
      },
      "source": [
        "def choose_action_epsilon_greedy(net, state, epsilon):\n",
        "    \n",
        "    if epsilon > 1 or epsilon < 0:\n",
        "        raise Exception('The epsilon value must be between 0 and 1')\n",
        "                \n",
        "    # Evaluate the network output from the current state\n",
        "    with torch.no_grad():\n",
        "        net.eval()\n",
        "        state = torch.tensor(state, dtype=torch.float32) # Convert the state to tensor\n",
        "        net_out = net(state)\n",
        "\n",
        "    # Get the best action (argmax of the network output)\n",
        "    best_action = int(net_out.argmax())\n",
        "    # Get the number of possible actions\n",
        "    action_space_dim = net_out.shape[-1]\n",
        "\n",
        "    # Select a non optimal action with probability epsilon, otherwise choose the best action\n",
        "    if random.random() < epsilon:\n",
        "        # List of non-optimal actions\n",
        "        non_optimal_actions = [a for a in range(action_space_dim) if a != best_action]\n",
        "        # Select randomly\n",
        "        action = random.choice(non_optimal_actions)\n",
        "    else:\n",
        "        # Select best action\n",
        "        action = best_action\n",
        "        \n",
        "    return action, net_out.numpy()"
      ],
      "execution_count": null,
      "outputs": []
    },
    {
      "cell_type": "code",
      "metadata": {
        "id": "nklFJdMoiDVo",
        "colab": {
          "base_uri": "https://localhost:8080/"
        },
        "outputId": "14f64234-dacb-4f7e-a531-cf85fb722bbd"
      },
      "source": [
        "# Test if it works as expected\n",
        "state = (0, 0, 0, 0)\n",
        "epsilon = 0.5\n",
        "chosen_action, q_values = choose_action_epsilon_greedy(net, state, epsilon)\n",
        "\n",
        "print(f\"ACTION: {chosen_action}\")\n",
        "print(f\"Q-VALUES: {q_values}\")"
      ],
      "execution_count": null,
      "outputs": [
        {
          "output_type": "stream",
          "text": [
            "ACTION: 1\n",
            "Q-VALUES: [ 0.15313338 -0.15758266]\n"
          ],
          "name": "stdout"
        }
      ]
    },
    {
      "cell_type": "markdown",
      "metadata": {
        "id": "Vvxi7b82f0g4"
      },
      "source": [
        "### Softmax policy"
      ]
    },
    {
      "cell_type": "code",
      "metadata": {
        "id": "taW_cjBsf4sW"
      },
      "source": [
        "def choose_action_softmax(net, state, temperature):\n",
        "    \n",
        "    if temperature < 0:\n",
        "        raise Exception('The temperature value must be greater than or equal to 0 ')\n",
        "        \n",
        "    # If the temperature is 0, just select the best action using the eps-greedy policy with epsilon = 0\n",
        "    if temperature == 0:\n",
        "        return choose_action_epsilon_greedy(net, state, 0)\n",
        "    \n",
        "    # Evaluate the network output from the current state\n",
        "    with torch.no_grad():\n",
        "        net.eval()\n",
        "        state = torch.tensor(state, dtype=torch.float32)\n",
        "        net_out = net(state)\n",
        "\n",
        "    # Apply softmax with temp\n",
        "    temperature = max(temperature, 1e-4) # set a minimum to the temperature for numerical stability\n",
        "    softmax_out = nn.functional.softmax(net_out / temperature, dim=0).numpy()\n",
        "                \n",
        "    # Sample the action using softmax output as mass pdf\n",
        "    all_possible_actions = np.arange(0, softmax_out.shape[-1])\n",
        "    action = np.random.choice(all_possible_actions, p=softmax_out) # this samples a random element from \"all_possible_actions\" with the probability distribution p (softmax_out in this case)\n",
        "    \n",
        "    return action, net_out.numpy()"
      ],
      "execution_count": null,
      "outputs": []
    },
    {
      "cell_type": "code",
      "metadata": {
        "id": "CAIMqC5kldtB",
        "colab": {
          "base_uri": "https://localhost:8080/"
        },
        "outputId": "10249b3e-43a3-4484-eb92-4bbbe9f10c18"
      },
      "source": [
        "state = (0, 0, 0, 0)\n",
        "temperature = 1\n",
        "chosen_action, q_values = choose_action_softmax(net, state, temperature)\n",
        "\n",
        "print(f\"ACTION: {chosen_action}\")\n",
        "print(f\"Q-VALUES: {q_values}\")"
      ],
      "execution_count": null,
      "outputs": [
        {
          "output_type": "stream",
          "text": [
            "ACTION: 1\n",
            "Q-VALUES: [ 0.15313338 -0.15758266]\n"
          ],
          "name": "stdout"
        }
      ]
    },
    {
      "cell_type": "markdown",
      "metadata": {
        "id": "QMXhJfZcpqIA"
      },
      "source": [
        "### Exploration profile"
      ]
    },
    {
      "cell_type": "markdown",
      "metadata": {
        "id": "7rOvTpcbMPnR"
      },
      "source": [
        "Let's consider, for example, an exponentially decreasing exploration profile using a softmax policy.\n",
        "\n",
        "$$\n",
        "\\text{softmax_temperature}  = \\text{initial_temperature} * \\text{exp_decay}^i \\qquad \\text{for $i$ = 1, 2, ..., num_iterations } \n",
        "$$\n",
        "\n",
        "Alternatively, you can consider an epsilon greedy policy. In this case the exploration would be controlled by the epsilon parameter, for which you should consider a different initial value (max 1). "
      ]
    },
    {
      "cell_type": "code",
      "metadata": {
        "id": "G-f78CC3ptt2",
        "colab": {
          "base_uri": "https://localhost:8080/",
          "height": 515
        },
        "outputId": "303e6323-58d0-4d4a-c34b-1f9c3c4d0f27"
      },
      "source": [
        "### Define exploration profile\n",
        "initial_value = 5\n",
        "num_iterations = 500\n",
        "exp_decay = np.exp(-np.log(initial_value) / num_iterations * 8) # We compute the exponential decay in such a way the shape of the exploration profile does not depend on the number of iterations\n",
        "exploration_profile = [initial_value * (exp_decay ** i) for i in range(num_iterations)]\n",
        "\n",
        "### Plot exploration profile\n",
        "plt.figure(figsize=(12,8))\n",
        "plt.plot(exploration_profile)\n",
        "plt.grid()\n",
        "plt.xlabel('Iteration')\n",
        "plt.ylabel('Exploration profile (Softmax temperature)')"
      ],
      "execution_count": null,
      "outputs": [
        {
          "output_type": "execute_result",
          "data": {
            "text/plain": [
              "Text(0, 0.5, 'Exploration profile (Softmax temperature)')"
            ]
          },
          "metadata": {
            "tags": []
          },
          "execution_count": 18
        },
        {
          "output_type": "display_data",
          "data": {
            "image/png": "[encoded data removed]",
            "text/plain": [
              "<Figure size 864x576 with 1 Axes>"
            ]
          },
          "metadata": {
            "tags": [],
            "needs_background": "light"
          }
        }
      ]
    },
    {
      "cell_type": "markdown",
      "metadata": {
        "id": "zjKmdFhowRbj"
      },
      "source": [
        "# Gym Environment (CartPole-v1)"
      ]
    },
    {
      "cell_type": "markdown",
      "metadata": {
        "id": "uC_cbOXjEJlb"
      },
      "source": [
        "A pole is attached by an un-actuated joint to a cart, which moves along a frictionless track. The system is controlled by applying a force of +1 or -1 to the cart. The pendulum starts upright, and the goal is to prevent it from falling over. A reward of +1 is provided for every timestep that the pole remains upright. The episode ends when the pole is more than 15 degrees from vertical, or the cart moves more than 2.4 units from the center.\n",
        "\n",
        "https://gym.openai.com/envs/CartPole-v1/"
      ]
    },
    {
      "cell_type": "markdown",
      "metadata": {
        "id": "9FmV7DVqEikG"
      },
      "source": [
        "![image.png](data:image/png;base64,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)"
      ]
    },
    {
      "cell_type": "code",
      "metadata": {
        "id": "Ar0yNaNrCnjn",
        "colab": {
          "base_uri": "https://localhost:8080/"
        },
        "outputId": "6a4fbd83-4e7d-49d6-b2d4-e3ce32e04950"
      },
      "source": [
        "### Create environment\n",
        "env = gym.make('CartPole-v1') # Initialize the Gym environment\n",
        "env.seed(0) # Set a random seed for the environment (reproducible results)\n",
        "\n",
        "# Get the shapes of the state space (observation_space) and action space (action_space)\n",
        "state_space_dim = env.observation_space.shape[0]\n",
        "action_space_dim = env.action_space.n\n",
        "\n",
        "print(f\"STATE SPACE SIZE: {state_space_dim}\")\n",
        "print(f\"ACTION SPACE SIZE: {action_space_dim}\")"
      ],
      "execution_count": null,
      "outputs": [
        {
          "output_type": "stream",
          "text": [
            "STATE SPACE SIZE: 4\n",
            "ACTION SPACE SIZE: 2\n"
          ],
          "name": "stdout"
        }
      ]
    },
    {
      "cell_type": "markdown",
      "metadata": {
        "id": "GR0X30SQwwC7"
      },
      "source": [
        "## Random agent"
      ]
    },
    {
      "cell_type": "markdown",
      "metadata": {
        "id": "eJP0ggFyOLLG"
      },
      "source": [
        "First of all, to check that the environment is working properly, let's try with an agent which simply choose an action randomly."
      ]
    },
    {
      "cell_type": "code",
      "metadata": {
        "id": "2g4NatpgSpbc",
        "colab": {
          "base_uri": "https://localhost:8080/"
        },
        "outputId": "b7d56b3f-5a3a-4c9a-c753-5cdc34a53d1a"
      },
      "source": [
        "# Initialize the Gym environment\n",
        "env = gym.make('CartPole-v1') \n",
        "env.seed(0) # Set a random seed for the environment (reproducible results)\n",
        "\n",
        "# This is for creating the output video in Colab, not required outside Colab\n",
        "env = wrap_env(env, video_callable=lambda episode_id: True)\n",
        "\n",
        "# Let's try for a total of 10 episodes\n",
        "for num_episode in range(10): \n",
        "    # Reset the environment and get the initial state\n",
        "    state = env.reset()\n",
        "    # Reset the score. The final score will be the total amount of steps before the pole falls\n",
        "    score = 0\n",
        "    done = False\n",
        "    # Go on until the pole falls off or the score reach 490\n",
        "    while not done and score < 490:\n",
        "      # Choose a random action\n",
        "      action = random.choice([0, 1])\n",
        "      # Apply the action and get the next state, the reward and a flag \"done\" that is True if the game is ended\n",
        "      next_state, reward, done, info = env.step(action)\n",
        "      # Visually render the environment (optional, comment this line to speed up the simulation)\n",
        "      env.render()\n",
        "      # Update the final score (+1 for each step)\n",
        "      score += reward \n",
        "      # Set the current state for the next iteration\n",
        "      state = next_state\n",
        "      # Check if the episode ended (the pole fell down)\n",
        "    # Print the final score\n",
        "    print(f\"EPISODE {num_episode + 1} - FINAL SCORE: {score}\") \n",
        "\n",
        "env.close()\n"
      ],
      "execution_count": null,
      "outputs": [
        {
          "output_type": "stream",
          "text": [
            "EPISODE 1 - FINAL SCORE: 20.0\n",
            "EPISODE 2 - FINAL SCORE: 22.0\n",
            "EPISODE 3 - FINAL SCORE: 36.0\n",
            "EPISODE 4 - FINAL SCORE: 15.0\n",
            "EPISODE 5 - FINAL SCORE: 11.0\n",
            "EPISODE 6 - FINAL SCORE: 26.0\n",
            "EPISODE 7 - FINAL SCORE: 37.0\n",
            "EPISODE 8 - FINAL SCORE: 28.0\n",
            "EPISODE 9 - FINAL SCORE: 18.0\n",
            "EPISODE 10 - FINAL SCORE: 17.0\n"
          ],
          "name": "stdout"
        }
      ]
    },
    {
      "cell_type": "code",
      "metadata": {
        "id": "AnX-nFLiVPH6"
      },
      "source": [
        "# Display the videos, not required outside Colab\n",
        "show_videos()"
      ],
      "execution_count": null,
      "outputs": []
    },
    {
      "cell_type": "markdown",
      "metadata": {
        "id": "9KXpjzf2vdeL"
      },
      "source": [
        "# Network update"
      ]
    },
    {
      "cell_type": "markdown",
      "metadata": {
        "id": "NZ3P9MKjxCAL"
      },
      "source": [
        "## Initialization"
      ]
    },
    {
      "cell_type": "code",
      "metadata": {
        "id": "lVpk-g0i9d-B"
      },
      "source": [
        "# Set random seeds\n",
        "torch.manual_seed(0)\n",
        "np.random.seed(0)\n",
        "random.seed(0)\n",
        "\n",
        "### PARAMETERS\n",
        "PER = False\n",
        "gamma = 0.97   # gamma parameter for the long term reward\n",
        "replay_memory_capacity = 10000   # Replay memory capacity\n",
        "PER_memory_capacity = 10000   # PER memory capacity\n",
        "lr = 1e-3  # Optimizer learning rate\n",
        "target_net_update_steps = 10   # Number of episodes to wait before updating the target network\n",
        "batch_size = 128  # Number of samples to take from the replay memory for each update\n",
        "bad_state_penalty = -50   # Penalty to the reward when we are in a bad state (in this case when the pole falls down) \n",
        "min_samples_for_training = 1000   # Minimum samples in the replay memory to enable the training"
      ],
      "execution_count": null,
      "outputs": []
    },
    {
      "cell_type": "code",
      "metadata": {
        "id": "2k3ZQuh8xHo7"
      },
      "source": [
        "### Initialize the replay memory\n",
        "replay_mem = ReplayMemory(replay_memory_capacity)   \n",
        "\n",
        "### Initialize the PER memory\n",
        "MEMORY = Memory(PER_memory_capacity)    \n",
        "\n",
        "\n",
        "### Initialize the policy network\n",
        "policy_net = DQN(state_space_dim, action_space_dim)\n",
        "\n",
        "### Initialize the target network with the same weights of the policy network\n",
        "target_net = DQN(state_space_dim, action_space_dim)\n",
        "target_net.load_state_dict(policy_net.state_dict()) # This will copy the weights of the policy network to the target network\n",
        "\n",
        "### Initialize the optimizer\n",
        "optimizer = torch.optim.Adam(policy_net.parameters(), lr=lr) # The optimizer will update ONLY the parameters of the policy network\n",
        "\n",
        "### Initialize the loss function (Huber loss)\n",
        "loss_fn = nn.SmoothL1Loss()"
      ],
      "execution_count": null,
      "outputs": []
    },
    {
      "cell_type": "markdown",
      "metadata": {
        "id": "LQUTrt8DzJXO"
      },
      "source": [
        "## Update function"
      ]
    },
    {
      "cell_type": "code",
      "metadata": {
        "id": "LcVhMIGHpe2R"
      },
      "source": [
        "def update_step(policy_net, target_net, memory, gamma, optimizer, loss_fn, batch_size, PER=False, double=False):\n",
        "        \n",
        "    # Sample the data from the memory\n",
        "    if PER == True:\n",
        "      tree_idx, batch  = memory.sample(batch_size)\n",
        "    else:\n",
        "      batch = memory.sample(batch_size)\n",
        "      batch_size = len(batch)\n",
        "\n",
        "    # Create tensors for each element of the batch\n",
        "    states      = torch.tensor([s[0] for s in batch], dtype=torch.float32)\n",
        "    actions     = torch.tensor([s[1] for s in batch], dtype=torch.int64)\n",
        "    rewards     = torch.tensor([s[3] for s in batch], dtype=torch.float32)\n",
        "\n",
        "    # Compute a mask of non-final states (all the elements where the next state is not None)\n",
        "    non_final_next_states = torch.tensor([s[2] for s in batch if s[2] is not None], dtype=torch.float32) # the next state can be None if the game has ended\n",
        "    non_final_mask = torch.tensor([s[2] is not None for s in batch], dtype=torch.bool)\n",
        "\n",
        "    # Compute all the Q values (forward pass)\n",
        "    policy_net.train()\n",
        "    q_values = policy_net(states)\n",
        "\n",
        "    if double == True:\n",
        "      with torch.no_grad():\n",
        "        policy_net.eval()\n",
        "        q_values_next = policy_net(non_final_next_states)\n",
        "        \n",
        "      # Select the proper Q value for the corresponding action taken Q(s_t, a)\n",
        "      state_action_values = q_values.gather(1, actions.unsqueeze(1))\n",
        "\n",
        "      # Use policy network for selecting the action to take\n",
        "      index = q_values_next.max(dim=1)[1]\n",
        "\n",
        "      # Compute the value function of the next states using the target network V(s_{t+1}) = ( Q_target(s_{t+1}, arg max_a Q_policy(s_{t+1},a)) )\n",
        "      with torch.no_grad():\n",
        "        target_net.eval()\n",
        "        q_values_target = target_net(non_final_next_states)\n",
        "      next_state_max_q_values = torch.zeros(batch_size).unsqueeze(1)\n",
        "      next_state_max_q_values[non_final_mask] = q_values_target.gather(1,index.unsqueeze(1))\n",
        "    \n",
        "      # Compute the expected Q values\n",
        "      expected_state_action_values = rewards.unsqueeze(1) + (next_state_max_q_values * gamma)\n",
        "\n",
        "\n",
        "    else:\n",
        "      # Select the proper Q value for the corresponding action taken Q(s_t, a)\n",
        "      state_action_values = q_values.gather(1, actions.unsqueeze(1))\n",
        "\n",
        "      # Compute the value function of the next states using the target network V(s_{t+1}) = max_a( Q_target(s_{t+1}, a)) )\n",
        "      with torch.no_grad():\n",
        "        target_net.eval()\n",
        "        q_values_target = target_net(non_final_next_states).cpu()\n",
        "      next_state_max_q_values = torch.zeros(batch_size)\n",
        "      next_state_max_q_values[non_final_mask] = q_values_target.max(dim=1)[0]\n",
        "    \n",
        "      # Compute the expected Q values\n",
        "      expected_state_action_values = rewards + (next_state_max_q_values * gamma)\n",
        "      expected_state_action_values = expected_state_action_values.unsqueeze(1) # Set the required tensor shape\n",
        "\n",
        "   \n",
        "    if PER == True:\n",
        "        absolute_errors = (torch.abs(state_action_values-next_state_max_q_values.unsqueeze(dim=1))).detach()   \n",
        "        # Update priority\n",
        "        memory.batch_update(tree_idx, absolute_errors.cpu())\n",
        "\n",
        "    # Compute the Huber loss\n",
        "    loss = loss_fn(state_action_values, expected_state_action_values)\n",
        "\n",
        "    # Optimize the model\n",
        "    optimizer.zero_grad()\n",
        "    loss.backward()\n",
        "    # Apply gradient clipping (clip all the gradients greater than 2 for training stability)\n",
        "    nn.utils.clip_grad_norm_(policy_net.parameters(), 2)\n",
        "    optimizer.step()"
      ],
      "execution_count": null,
      "outputs": []
    },
    {
      "cell_type": "markdown",
      "metadata": {
        "id": "TGteiuAn35AN"
      },
      "source": [
        "## Reward function"
      ]
    },
    {
      "cell_type": "code",
      "metadata": {
        "id": "fn7nDgpJ2Qwh"
      },
      "source": [
        "def reward_fun(next_state,reward):\n",
        "  if np.abs(next_state[0])>1:\n",
        "    if next_state[0]*next_state[2]>0:\n",
        "      if abs(next_state[2])>1:\n",
        "        reward = reward -2*(np.abs(next_state[0])-1)\n",
        "  else:\n",
        "    reward = reward - np.abs(next_state[1])\n",
        "  return reward\n",
        "\n"
      ],
      "execution_count": null,
      "outputs": []
    },
    {
      "cell_type": "markdown",
      "metadata": {
        "id": "03Ab0RMB5CCC"
      },
      "source": [
        "## Training loop"
      ]
    },
    {
      "cell_type": "code",
      "metadata": {
        "id": "WF6Zf53FoRDZ",
        "colab": {
          "base_uri": "https://localhost:8080/",
          "height": 1000,
          "referenced_widgets": [
            "ee9479e3fa1243a5a9773e6625108b37",
            "bebdcc36a8914530b339f08d898cc2c1",
            "6de2fc07b2664d78b53a2e0b00faae4a",
            "7a85125ec47948b4972417f285b89b37",
            "067aecc87d864eb6904014f757a1656c",
            "1f484b1414fe4e8cab166d46f22ab42e",
            "8dda66b1e8ed496985ef062df55b7985",
            "8a054b49e9a54f6ea33e2f69d3e08d7a"
          ]
        },
        "outputId": "9e8c74ff-9533-46cf-9830-306833234899"
      },
      "source": [
        "# Initialize the Gym environment\n",
        "env = gym.make('CartPole-v1') \n",
        "env.seed(0) # Set a random seed for the environment (reproducible results)\n",
        "\n",
        "# This is for creating the output video in Colab, not required outside Colab\n",
        "env = wrap_env(env, video_callable=lambda episode_id: episode_id % 50 == 0) # Save a video every 50 episodes\n",
        "\n",
        "results = []\n",
        "mean_results = [] \n",
        "\n",
        "for episode_num, tau in enumerate(tqdm(exploration_profile)):\n",
        "\n",
        "    # Reset the environment and get the initial state\n",
        "    state = env.reset()\n",
        "    # Reset the score. The final score will be the total amount of steps before the pole falls\n",
        "    score = 0\n",
        "    done = False\n",
        "\n",
        "    # Go on until the pole falls off\n",
        "    while not done:\n",
        "\n",
        "      # Choose the action following the policy\n",
        "      action, q_values = choose_action_softmax(policy_net, state, temperature=tau)\n",
        "      \n",
        "      # Apply the action and get the next state, the reward and a flag \"done\" that is True if the game is ended\n",
        "      next_state, reward, done, info = env.step(action)\n",
        "      \n",
        "      # We apply a penalty when the cart is far from center\n",
        "      pos_weight = 1\n",
        "      #reward = reward - pos_weight * np.abs(next_state[0])\n",
        "      reward= reward_fun(next_state,reward)     \n",
        "\n",
        "      # Update the final score (+1 for each step)\n",
        "      score += 1\n",
        "\n",
        "      # Apply penalty for bad state\n",
        "      if done: # if the pole has fallen down \n",
        "          reward += bad_state_penalty\n",
        "          next_state = None\n",
        "      \n",
        "      if PER == True:\n",
        "        # Update the PER memory\n",
        "        MEMORY.store((state, action, next_state , reward))\n",
        "        # Update the network\n",
        "        update_step(policy_net, target_net, MEMORY, gamma, optimizer, loss_fn, batch_size,PER=True)\n",
        "      else:\n",
        "        # Update the replay memory\n",
        "        replay_mem.push(state, action, next_state , reward)\n",
        "        # Update the network\n",
        "        if len(replay_mem) > min_samples_for_training: # we enable the training only if we have enough samples in the replay memory, otherwise the training will use the same samples too often\n",
        "            update_step(policy_net, target_net, replay_mem, gamma, optimizer, loss_fn, batch_size,double=False)\n",
        "\n",
        "      # Visually render the environment (disable to speed up the training)\n",
        "      env.render()\n",
        "\n",
        "      # Set the current state for the next iteration\n",
        "      state = next_state\n",
        "      \n",
        "\n",
        "\n",
        "    # Save the results\n",
        "    results.append(score)\n",
        "    mean_results.append(sum(results[-50:])/min(len(results),50))\n",
        "\n",
        "    # Update the target network every target_net_update_steps episodes\n",
        "    if episode_num % target_net_update_steps == 0:\n",
        "        print('Updating target network...')\n",
        "        target_net.load_state_dict(policy_net.state_dict()) # This will copy the weights of the policy network to the target network\n",
        "\n",
        "    # Print the final score\n",
        "    print(f\"EPISODE: {episode_num + 1} - FINAL SCORE: {score} - Temperature: {tau}\") # Print the final score\n",
        "\n",
        "env.close()"
      ],
      "execution_count": null,
      "outputs": [
        {
          "output_type": "display_data",
          "data": {
            "application/vnd.jupyter.widget-view+json": {
              "model_id": "ee9479e3fa1243a5a9773e6625108b37",
              "version_minor": 0,
              "version_major": 2
            },
            "text/plain": [
              "HBox(children=(FloatProgress(value=0.0, max=500.0), HTML(value='')))"
            ]
          },
          "metadata": {
            "tags": []
          }
        },
        {
          "output_type": "stream",
          "text": [
            "Updating target network...\n",
            "EPISODE: 1 - FINAL SCORE: 17 - Temperature: 5.0\n",
            "EPISODE: 2 - FINAL SCORE: 11 - Temperature: 4.872888614111293\n",
            "EPISODE: 3 - FINAL SCORE: 17 - Temperature: 4.749008689107096\n",
            "EPISODE: 4 - FINAL SCORE: 23 - Temperature: 4.628278073893113\n",
            "EPISODE: 5 - FINAL SCORE: 48 - Temperature: 4.510616705842939\n",
            "EPISODE: 6 - FINAL SCORE: 13 - Temperature: 4.395946557704449\n",
            "EPISODE: 7 - FINAL SCORE: 17 - Temperature: 4.2841915858559485\n",
            "EPISODE: 8 - FINAL SCORE: 30 - Temperature: 4.175277679877772\n",
            "EPISODE: 9 - FINAL SCORE: 21 - Temperature: 4.069132613405882\n",
            "EPISODE: 10 - FINAL SCORE: 29 - Temperature: 3.9656859962348907\n",
            "Updating target network...\n",
            "EPISODE: 11 - FINAL SCORE: 16 - Temperature: 3.86486922763872\n",
            "EPISODE: 12 - FINAL SCORE: 21 - Temperature: 3.766615450877965\n",
            "EPISODE: 13 - FINAL SCORE: 11 - Temperature: 3.670859508863782\n",
            "EPISODE: 14 - FINAL SCORE: 36 - Temperature: 3.5775379009488995\n",
            "EPISODE: 15 - FINAL SCORE: 37 - Temperature: 3.4865887408171012\n",
            "EPISODE: 16 - FINAL SCORE: 37 - Temperature: 3.397951715443257\n",
            "EPISODE: 17 - FINAL SCORE: 55 - Temperature: 3.311568045096677\n",
            "EPISODE: 18 - FINAL SCORE: 33 - Temperature: 3.227380444361278\n",
            "EPISODE: 19 - FINAL SCORE: 40 - Temperature: 3.145333084146703\n",
            "EPISODE: 20 - FINAL SCORE: 13 - Temperature: 3.0653715546652056\n",
            "Updating target network...\n",
            "EPISODE: 21 - FINAL SCORE: 26 - Temperature: 2.987442829349743\n",
            "EPISODE: 22 - FINAL SCORE: 28 - Temperature: 2.9114952296893577\n",
            "EPISODE: 23 - FINAL SCORE: 11 - Temperature: 2.8374783909585233\n",
            "EPISODE: 24 - FINAL SCORE: 35 - Temperature: 2.7653432288177235\n",
            "EPISODE: 25 - FINAL SCORE: 16 - Temperature: 2.6950419067631293\n",
            "EPISODE: 26 - FINAL SCORE: 33 - Temperature: 2.6265278044037688\n",
            "EPISODE: 27 - FINAL SCORE: 66 - Temperature: 2.5597554865451717\n",
            "EPISODE: 28 - FINAL SCORE: 31 - Temperature: 2.494680673058976\n",
            "EPISODE: 29 - FINAL SCORE: 39 - Temperature: 2.4312602095185163\n",
            "EPISODE: 30 - FINAL SCORE: 16 - Temperature: 2.369452038580923\n",
            "Updating target network...\n",
            "EPISODE: 31 - FINAL SCORE: 28 - Temperature: 2.309215172096754\n",
            "EPISODE: 32 - FINAL SCORE: 29 - Temperature: 2.250509663928665\n",
            "EPISODE: 33 - FINAL SCORE: 17 - Temperature: 2.193296583461085\n",
            "EPISODE: 34 - FINAL SCORE: 14 - Temperature: 2.137537989783344\n",
            "EPISODE: 35 - FINAL SCORE: 33 - Temperature: 2.08319690652912\n",
            "EPISODE: 36 - FINAL SCORE: 15 - Temperature: 2.030237297355523\n",
            "EPISODE: 37 - FINAL SCORE: 15 - Temperature: 1.9786240420455625\n",
            "EPISODE: 38 - FINAL SCORE: 21 - Temperature: 1.928322913218137\n",
            "EPISODE: 39 - FINAL SCORE: 21 - Temperature: 1.8793005536301162\n",
            "EPISODE: 40 - FINAL SCORE: 16 - Temperature: 1.8315244540554485\n",
            "Updating target network...\n",
            "EPISODE: 41 - FINAL SCORE: 52 - Temperature: 1.7849629317266393\n",
            "EPISODE: 42 - FINAL SCORE: 17 - Temperature: 1.739585109324291\n",
            "EPISODE: 43 - FINAL SCORE: 43 - Temperature: 1.6953608945007772\n",
            "EPISODE: 44 - FINAL SCORE: 49 - Temperature: 1.6522609599244746\n",
            "EPISODE: 45 - FINAL SCORE: 62 - Temperature: 1.610256723831314\n",
            "EPISODE: 46 - FINAL SCORE: 34 - Temperature: 1.5693203310707524\n",
            "EPISODE: 47 - FINAL SCORE: 21 - Temperature: 1.529424634633607\n",
            "EPISODE: 48 - FINAL SCORE: 27 - Temperature: 1.4905431776494857\n",
            "EPISODE: 49 - FINAL SCORE: 49 - Temperature: 1.4526501758418888\n",
            "EPISODE: 50 - FINAL SCORE: 41 - Temperature: 1.4157205004293416\n",
            "Updating target network...\n",
            "EPISODE: 51 - FINAL SCORE: 44 - Temperature: 1.3797296614612162\n",
            "EPISODE: 52 - FINAL SCORE: 53 - Temperature: 1.344653791577198\n",
            "EPISODE: 53 - FINAL SCORE: 23 - Temperature: 1.3104696301796215\n",
            "EPISODE: 54 - FINAL SCORE: 37 - Temperature: 1.277154508008183\n",
            "EPISODE: 55 - FINAL SCORE: 13 - Temperature: 1.2446863321067971\n",
            "EPISODE: 56 - FINAL SCORE: 19 - Temperature: 1.2130435711726317\n",
            "EPISODE: 57 - FINAL SCORE: 19 - Temperature: 1.1822052412776038\n",
            "EPISODE: 58 - FINAL SCORE: 29 - Temperature: 1.152150891952866\n",
            "EPISODE: 59 - FINAL SCORE: 18 - Temperature: 1.1228605926270583\n",
            "EPISODE: 60 - FINAL SCORE: 55 - Temperature: 1.0943149194093302\n",
            "Updating target network...\n",
            "EPISODE: 61 - FINAL SCORE: 31 - Temperature: 1.0664949422083687\n",
            "EPISODE: 62 - FINAL SCORE: 16 - Temperature: 1.039382212178888\n",
            "EPISODE: 63 - FINAL SCORE: 19 - Temperature: 1.0129587494872625\n",
            "EPISODE: 64 - FINAL SCORE: 48 - Temperature: 0.9872070313881791\n",
            "EPISODE: 65 - FINAL SCORE: 36 - Temperature: 0.9621099806044136\n",
            "EPISODE: 66 - FINAL SCORE: 66 - Temperature: 0.9376509540020167\n",
            "EPISODE: 67 - FINAL SCORE: 20 - Temperature: 0.9138137315534038\n",
            "EPISODE: 68 - FINAL SCORE: 43 - Temperature: 0.890582505581027\n",
            "EPISODE: 69 - FINAL SCORE: 42 - Temperature: 0.8679418702744989\n",
            "EPISODE: 70 - FINAL SCORE: 30 - Temperature: 0.8458768114742132\n",
            "Updating target network...\n",
            "EPISODE: 71 - FINAL SCORE: 18 - Temperature: 0.8243726967146918\n",
            "EPISODE: 72 - FINAL SCORE: 36 - Temperature: 0.8034152655210487\n",
            "EPISODE: 73 - FINAL SCORE: 35 - Temperature: 0.782990619952144\n",
            "EPISODE: 74 - FINAL SCORE: 46 - Temperature: 0.763085215384149\n",
            "EPISODE: 75 - FINAL SCORE: 27 - Temperature: 0.7436858515284167\n",
            "EPISODE: 76 - FINAL SCORE: 36 - Temperature: 0.7247796636776966\n",
            "EPISODE: 77 - FINAL SCORE: 53 - Temperature: 0.706354114174892\n",
            "EPISODE: 78 - FINAL SCORE: 64 - Temperature: 0.6883969840987001\n",
            "EPISODE: 79 - FINAL SCORE: 94 - Temperature: 0.6708963651606216\n",
            "EPISODE: 80 - FINAL SCORE: 43 - Temperature: 0.6538406518079691\n",
            "Updating target network...\n",
            "EPISODE: 81 - FINAL SCORE: 80 - Temperature: 0.6372185335276319\n",
            "EPISODE: 82 - FINAL SCORE: 31 - Temperature: 0.6210189873454984\n",
            "EPISODE: 83 - FINAL SCORE: 92 - Temperature: 0.605231270516561\n",
            "EPISODE: 84 - FINAL SCORE: 14 - Temperature: 0.5898449134008523\n",
            "EPISODE: 85 - FINAL SCORE: 30 - Temperature: 0.5748497125204951\n",
            "EPISODE: 86 - FINAL SCORE: 33 - Temperature: 0.5602357237932541\n",
            "EPISODE: 87 - FINAL SCORE: 45 - Temperature: 0.5459932559381094\n",
            "EPISODE: 88 - FINAL SCORE: 38 - Temperature: 0.5321128640484734\n",
            "EPISODE: 89 - FINAL SCORE: 21 - Temperature: 0.5185853433287912\n",
            "EPISODE: 90 - FINAL SCORE: 28 - Temperature: 0.5054017229903726\n",
            "Updating target network...\n",
            "EPISODE: 91 - FINAL SCORE: 30 - Temperature: 0.4925532603024032\n",
            "EPISODE: 92 - FINAL SCORE: 27 - Temperature: 0.4800314347941953\n",
            "EPISODE: 93 - FINAL SCORE: 67 - Temperature: 0.4678279426048284\n",
            "EPISODE: 94 - FINAL SCORE: 58 - Temperature: 0.455934690976436\n",
            "EPISODE: 95 - FINAL SCORE: 41 - Temperature: 0.44434379288748516\n",
            "EPISODE: 96 - FINAL SCORE: 36 - Temperature: 0.4330475618224906\n",
            "EPISODE: 97 - FINAL SCORE: 31 - Temperature: 0.4220385066746941\n",
            "EPISODE: 98 - FINAL SCORE: 51 - Temperature: 0.4113093267783301\n",
            "EPISODE: 99 - FINAL SCORE: 30 - Temperature: 0.40085290706718113\n",
            "EPISODE: 100 - FINAL SCORE: 47 - Temperature: 0.3906623133562159\n",
            "Updating target network...\n",
            "EPISODE: 101 - FINAL SCORE: 31 - Temperature: 0.3807307877431765\n",
            "EPISODE: 102 - FINAL SCORE: 67 - Temperature: 0.37105174412706965\n",
            "EPISODE: 103 - FINAL SCORE: 65 - Temperature: 0.3616187638405869\n",
            "EPISODE: 104 - FINAL SCORE: 79 - Temperature: 0.3524255913935593\n",
            "EPISODE: 105 - FINAL SCORE: 63 - Temperature: 0.3434661303246228\n",
            "EPISODE: 106 - FINAL SCORE: 43 - Temperature: 0.334734439158344\n",
            "EPISODE: 107 - FINAL SCORE: 88 - Temperature: 0.32622472746512476\n",
            "EPISODE: 108 - FINAL SCORE: 47 - Temperature: 0.3179313520212732\n",
            "EPISODE: 109 - FINAL SCORE: 79 - Temperature: 0.3098488130666944\n",
            "EPISODE: 110 - FINAL SCORE: 31 - Temperature: 0.3019717506577187\n",
            "Updating target network...\n",
            "EPISODE: 111 - FINAL SCORE: 83 - Temperature: 0.29429494111265037\n",
            "EPISODE: 112 - FINAL SCORE: 52 - Temperature: 0.2868132935476775\n",
            "EPISODE: 113 - FINAL SCORE: 68 - Temperature: 0.27952184650084755\n",
            "EPISODE: 114 - FINAL SCORE: 78 - Temperature: 0.2724157646418689\n",
            "EPISODE: 115 - FINAL SCORE: 58 - Temperature: 0.26549033556555696\n",
            "EPISODE: 116 - FINAL SCORE: 77 - Temperature: 0.2587409666667978\n",
            "EPISODE: 117 - FINAL SCORE: 78 - Temperature: 0.25216318209495775\n",
            "EPISODE: 118 - FINAL SCORE: 37 - Temperature: 0.24575261978571847\n",
            "EPISODE: 119 - FINAL SCORE: 81 - Temperature: 0.2395050285683698\n",
            "EPISODE: 120 - FINAL SCORE: 64 - Temperature: 0.23341626534664184\n",
            "Updating target network...\n",
            "EPISODE: 121 - FINAL SCORE: 52 - Temperature: 0.2274822923512063\n",
            "EPISODE: 122 - FINAL SCORE: 62 - Temperature: 0.22169917446202592\n",
            "EPISODE: 123 - FINAL SCORE: 80 - Temperature: 0.21606307659877588\n",
            "EPISODE: 124 - FINAL SCORE: 64 - Temperature: 0.21057026117760624\n",
            "EPISODE: 125 - FINAL SCORE: 97 - Temperature: 0.20521708563255972\n",
            "EPISODE: 126 - FINAL SCORE: 69 - Temperature: 0.2000000000000005\n",
            "EPISODE: 127 - FINAL SCORE: 90 - Temperature: 0.19491554456445223\n",
            "EPISODE: 128 - FINAL SCORE: 63 - Temperature: 0.18996034756428432\n",
            "EPISODE: 129 - FINAL SCORE: 61 - Temperature: 0.18513112295572498\n",
            "EPISODE: 130 - FINAL SCORE: 88 - Temperature: 0.18042466823371806\n",
            "Updating target network...\n",
            "EPISODE: 131 - FINAL SCORE: 85 - Temperature: 0.17583786230817844\n",
            "EPISODE: 132 - FINAL SCORE: 79 - Temperature: 0.1713676634342384\n",
            "EPISODE: 133 - FINAL SCORE: 72 - Temperature: 0.1670111071951113\n",
            "EPISODE: 134 - FINAL SCORE: 74 - Temperature: 0.1627653045362357\n",
            "EPISODE: 135 - FINAL SCORE: 78 - Temperature: 0.15862743984939603\n",
            "EPISODE: 136 - FINAL SCORE: 69 - Temperature: 0.1545947691055492\n",
            "EPISODE: 137 - FINAL SCORE: 74 - Temperature: 0.150664618035119\n",
            "EPISODE: 138 - FINAL SCORE: 80 - Temperature: 0.14683438035455165\n",
            "EPISODE: 139 - FINAL SCORE: 67 - Temperature: 0.14310151603795634\n",
            "EPISODE: 140 - FINAL SCORE: 96 - Temperature: 0.13946354963268442\n",
            "Updating target network...\n",
            "EPISODE: 141 - FINAL SCORE: 126 - Temperature: 0.13591806861773062\n",
            "EPISODE: 142 - FINAL SCORE: 58 - Temperature: 0.1324627218038674\n",
            "EPISODE: 143 - FINAL SCORE: 86 - Temperature: 0.12909521777445146\n",
            "EPISODE: 144 - FINAL SCORE: 102 - Temperature: 0.12581332336586845\n",
            "EPISODE: 145 - FINAL SCORE: 108 - Temperature: 0.12261486218660854\n",
            "EPISODE: 146 - FINAL SCORE: 104 - Temperature: 0.11949771317399002\n",
            "EPISODE: 147 - FINAL SCORE: 70 - Temperature: 0.1164598091875746\n",
            "EPISODE: 148 - FINAL SCORE: 119 - Temperature: 0.11349913563834121\n",
            "EPISODE: 149 - FINAL SCORE: 64 - Temperature: 0.11061372915270926\n",
            "EPISODE: 150 - FINAL SCORE: 107 - Temperature: 0.10780167627052545\n",
            "Updating target network...\n",
            "EPISODE: 151 - FINAL SCORE: 95 - Temperature: 0.10506111217615102\n",
            "EPISODE: 152 - FINAL SCORE: 88 - Temperature: 0.10239021946180712\n",
            "EPISODE: 153 - FINAL SCORE: 139 - Temperature: 0.09978722692235929\n",
            "EPISODE: 154 - FINAL SCORE: 102 - Temperature: 0.0972504083807409\n",
            "EPISODE: 155 - FINAL SCORE: 131 - Temperature: 0.09477808154323716\n",
            "EPISODE: 156 - FINAL SCORE: 98 - Temperature: 0.09236860688387041\n",
            "EPISODE: 157 - FINAL SCORE: 67 - Temperature: 0.09002038655714682\n",
            "EPISODE: 158 - FINAL SCORE: 172 - Temperature: 0.08773186333844363\n",
            "EPISODE: 159 - FINAL SCORE: 119 - Temperature: 0.08550151959133398\n",
            "EPISODE: 160 - FINAL SCORE: 96 - Temperature: 0.083327876261165\n",
            "Updating target network...\n",
            "EPISODE: 161 - FINAL SCORE: 140 - Temperature: 0.08120949189422114\n",
            "EPISODE: 162 - FINAL SCORE: 95 - Temperature: 0.0791449616818227\n",
            "EPISODE: 163 - FINAL SCORE: 110 - Temperature: 0.07713291652872568\n",
            "EPISODE: 164 - FINAL SCORE: 112 - Temperature: 0.07517202214520484\n",
            "EPISODE: 165 - FINAL SCORE: 178 - Temperature: 0.07326097816221813\n",
            "EPISODE: 166 - FINAL SCORE: 115 - Temperature: 0.07139851726906576\n",
            "EPISODE: 167 - FINAL SCORE: 87 - Temperature: 0.06958340437297181\n",
            "EPISODE: 168 - FINAL SCORE: 125 - Temperature: 0.06781443578003127\n",
            "EPISODE: 169 - FINAL SCORE: 144 - Temperature: 0.06609043839697916\n",
            "EPISODE: 170 - FINAL SCORE: 117 - Temperature: 0.06441026895325272\n",
            "Updating target network...\n",
            "EPISODE: 171 - FINAL SCORE: 111 - Temperature: 0.06277281324283025\n",
            "EPISODE: 172 - FINAL SCORE: 100 - Temperature: 0.06117698538534443\n",
            "EPISODE: 173 - FINAL SCORE: 151 - Temperature: 0.05962172710597957\n",
            "EPISODE: 174 - FINAL SCORE: 108 - Temperature: 0.05810600703367571\n",
            "EPISODE: 175 - FINAL SCORE: 142 - Temperature: 0.056628820017173814\n",
            "EPISODE: 176 - FINAL SCORE: 127 - Temperature: 0.055189186458448794\n",
            "EPISODE: 177 - FINAL SCORE: 104 - Temperature: 0.05378615166308806\n",
            "EPISODE: 178 - FINAL SCORE: 102 - Temperature: 0.052418785207185\n",
            "EPISODE: 179 - FINAL SCORE: 119 - Temperature: 0.051086180320327454\n",
            "EPISODE: 180 - FINAL SCORE: 114 - Temperature: 0.04978745328427201\n",
            "Updating target network...\n",
            "EPISODE: 181 - FINAL SCORE: 110 - Temperature: 0.04852174284690539\n",
            "EPISODE: 182 - FINAL SCORE: 127 - Temperature: 0.04728820965110428\n",
            "EPISODE: 183 - FINAL SCORE: 109 - Temperature: 0.046086035678114756\n",
            "EPISODE: 184 - FINAL SCORE: 106 - Temperature: 0.044914423705082446\n",
            "EPISODE: 185 - FINAL SCORE: 97 - Temperature: 0.043772596776373324\n",
            "EPISODE: 186 - FINAL SCORE: 104 - Temperature: 0.042659797688334854\n",
            "EPISODE: 187 - FINAL SCORE: 104 - Temperature: 0.04157528848715564\n",
            "EPISODE: 188 - FINAL SCORE: 111 - Temperature: 0.04051834997949061\n",
            "EPISODE: 189 - FINAL SCORE: 107 - Temperature: 0.03948828125552726\n",
            "EPISODE: 190 - FINAL SCORE: 121 - Temperature: 0.03848439922417664\n",
            "Updating target network...\n",
            "EPISODE: 191 - FINAL SCORE: 125 - Temperature: 0.03750603816008077\n",
            "EPISODE: 192 - FINAL SCORE: 141 - Temperature: 0.03655254926213625\n",
            "EPISODE: 193 - FINAL SCORE: 171 - Temperature: 0.03562330022324118\n",
            "EPISODE: 194 - FINAL SCORE: 97 - Temperature: 0.03471767481098004\n",
            "EPISODE: 195 - FINAL SCORE: 120 - Temperature: 0.03383507245896862\n",
            "EPISODE: 196 - FINAL SCORE: 136 - Temperature: 0.032974907868587755\n",
            "EPISODE: 197 - FINAL SCORE: 108 - Temperature: 0.032136610620842034\n",
            "EPISODE: 198 - FINAL SCORE: 133 - Temperature: 0.03131962479808584\n",
            "EPISODE: 199 - FINAL SCORE: 104 - Temperature: 0.030523408615366038\n",
            "EPISODE: 200 - FINAL SCORE: 108 - Temperature: 0.029747434061136745\n",
            "Updating target network...\n",
            "EPISODE: 201 - FINAL SCORE: 135 - Temperature: 0.028991186547107937\n",
            "EPISODE: 202 - FINAL SCORE: 153 - Temperature: 0.028254164566995754\n",
            "EPISODE: 203 - FINAL SCORE: 126 - Temperature: 0.027535879363948072\n",
            "EPISODE: 204 - FINAL SCORE: 149 - Temperature: 0.026835854606424934\n",
            "EPISODE: 205 - FINAL SCORE: 111 - Temperature: 0.02615362607231883\n",
            "EPISODE: 206 - FINAL SCORE: 121 - Temperature: 0.02548874134110534\n",
            "EPISODE: 207 - FINAL SCORE: 128 - Temperature: 0.024840759493820003\n",
            "EPISODE: 208 - FINAL SCORE: 114 - Temperature: 0.0242092508206625\n",
            "EPISODE: 209 - FINAL SCORE: 109 - Temperature: 0.023593796536034158\n",
            "EPISODE: 210 - FINAL SCORE: 102 - Temperature: 0.022993988500819865\n",
            "Updating target network...\n",
            "EPISODE: 211 - FINAL SCORE: 164 - Temperature: 0.02240942895173022\n",
            "EPISODE: 212 - FINAL SCORE: 132 - Temperature: 0.021839730237524432\n",
            "EPISODE: 213 - FINAL SCORE: 126 - Temperature: 0.02128451456193899\n",
            "EPISODE: 214 - FINAL SCORE: 114 - Temperature: 0.020743413733151705\n",
            "EPISODE: 215 - FINAL SCORE: 134 - Temperature: 0.02021606891961495\n",
            "EPISODE: 216 - FINAL SCORE: 122 - Temperature: 0.01970213041209618\n",
            "EPISODE: 217 - FINAL SCORE: 115 - Temperature: 0.019201257391767864\n",
            "EPISODE: 218 - FINAL SCORE: 125 - Temperature: 0.018713117704193184\n",
            "EPISODE: 219 - FINAL SCORE: 156 - Temperature: 0.018237387639057488\n",
            "EPISODE: 220 - FINAL SCORE: 115 - Temperature: 0.017773751715499452\n",
            "Updating target network...\n",
            "EPISODE: 221 - FINAL SCORE: 171 - Temperature: 0.01732190247289967\n",
            "EPISODE: 222 - FINAL SCORE: 114 - Temperature: 0.01688154026698781\n",
            "EPISODE: 223 - FINAL SCORE: 137 - Temperature: 0.016452373071133244\n",
            "EPISODE: 224 - FINAL SCORE: 152 - Temperature: 0.016034116282687284\n",
            "EPISODE: 225 - FINAL SCORE: 113 - Temperature: 0.015626492534248675\n",
            "EPISODE: 226 - FINAL SCORE: 196 - Temperature: 0.015229231509727098\n",
            "EPISODE: 227 - FINAL SCORE: 123 - Temperature: 0.014842069765082823\n",
            "EPISODE: 228 - FINAL SCORE: 106 - Temperature: 0.014464750553623512\n",
            "EPISODE: 229 - FINAL SCORE: 123 - Temperature: 0.014097023655742408\n",
            "EPISODE: 230 - FINAL SCORE: 134 - Temperature: 0.013738645212984948\n",
            "Updating target network...\n",
            "EPISODE: 231 - FINAL SCORE: 122 - Temperature: 0.013389377566333795\n",
            "EPISODE: 232 - FINAL SCORE: 149 - Temperature: 0.013048989098605026\n",
            "EPISODE: 233 - FINAL SCORE: 133 - Temperature: 0.012717254080850964\n",
            "EPISODE: 234 - FINAL SCORE: 168 - Temperature: 0.012393952522667808\n",
            "EPISODE: 235 - FINAL SCORE: 151 - Temperature: 0.012078870026308778\n",
            "EPISODE: 236 - FINAL SCORE: 80 - Temperature: 0.011771797644506046\n",
            "EPISODE: 237 - FINAL SCORE: 116 - Temperature: 0.011472531741907129\n",
            "EPISODE: 238 - FINAL SCORE: 128 - Temperature: 0.01118087386003393\n",
            "EPISODE: 239 - FINAL SCORE: 71 - Temperature: 0.010896630585674784\n",
            "EPISODE: 240 - FINAL SCORE: 69 - Temperature: 0.010619613422622307\n",
            "Updating target network...\n",
            "EPISODE: 241 - FINAL SCORE: 124 - Temperature: 0.010349638666671938\n",
            "EPISODE: 242 - FINAL SCORE: 130 - Temperature: 0.010086527283798335\n",
            "EPISODE: 243 - FINAL SCORE: 91 - Temperature: 0.009830104791428762\n",
            "EPISODE: 244 - FINAL SCORE: 126 - Temperature: 0.009580201142734819\n",
            "EPISODE: 245 - FINAL SCORE: 114 - Temperature: 0.009336650613865698\n",
            "EPISODE: 246 - FINAL SCORE: 87 - Temperature: 0.009099291694048276\n",
            "EPISODE: 247 - FINAL SCORE: 83 - Temperature: 0.00886796697848106\n",
            "EPISODE: 248 - FINAL SCORE: 148 - Temperature: 0.008642523063951057\n",
            "EPISODE: 249 - FINAL SCORE: 134 - Temperature: 0.00842281044710427\n",
            "EPISODE: 250 - FINAL SCORE: 135 - Temperature: 0.008208683425302411\n",
            "Updating target network...\n",
            "EPISODE: 251 - FINAL SCORE: 109 - Temperature: 0.008000000000000042\n",
            "EPISODE: 252 - FINAL SCORE: 120 - Temperature: 0.007796621782578109\n",
            "EPISODE: 253 - FINAL SCORE: 87 - Temperature: 0.007598413902571393\n",
            "EPISODE: 254 - FINAL SCORE: 117 - Temperature: 0.007405244918229019\n",
            "EPISODE: 255 - FINAL SCORE: 158 - Temperature: 0.007216986729348741\n",
            "EPISODE: 256 - FINAL SCORE: 76 - Temperature: 0.007033514492327156\n",
            "EPISODE: 257 - FINAL SCORE: 125 - Temperature: 0.006854706537369554\n",
            "EPISODE: 258 - FINAL SCORE: 118 - Temperature: 0.006680444287804469\n",
            "EPISODE: 259 - FINAL SCORE: 96 - Temperature: 0.006510612181449445\n",
            "EPISODE: 260 - FINAL SCORE: 148 - Temperature: 0.006345097593975857\n",
            "Updating target network...\n",
            "EPISODE: 261 - FINAL SCORE: 137 - Temperature: 0.006183790764221984\n",
            "EPISODE: 262 - FINAL SCORE: 155 - Temperature: 0.006026584721404775\n",
            "EPISODE: 263 - FINAL SCORE: 75 - Temperature: 0.005873375214182082\n",
            "EPISODE: 264 - FINAL SCORE: 158 - Temperature: 0.005724060641518269\n",
            "EPISODE: 265 - FINAL SCORE: 138 - Temperature: 0.0055785419853073915\n",
            "EPISODE: 266 - FINAL SCORE: 168 - Temperature: 0.0054367227447092385\n",
            "EPISODE: 267 - FINAL SCORE: 173 - Temperature: 0.00529850887215471\n",
            "EPISODE: 268 - FINAL SCORE: 162 - Temperature: 0.0051638087109780705\n",
            "EPISODE: 269 - FINAL SCORE: 183 - Temperature: 0.005032532934634752\n",
            "EPISODE: 270 - FINAL SCORE: 84 - Temperature: 0.0049045944874643544\n",
            "Updating target network...\n",
            "EPISODE: 271 - FINAL SCORE: 159 - Temperature: 0.0047799085269596125\n",
            "EPISODE: 272 - FINAL SCORE: 139 - Temperature: 0.004658392367502996\n",
            "EPISODE: 273 - FINAL SCORE: 152 - Temperature: 0.00453996542553366\n",
            "EPISODE: 274 - FINAL SCORE: 143 - Temperature: 0.004424549166108381\n",
            "EPISODE: 275 - FINAL SCORE: 150 - Temperature: 0.00431206705082103\n",
            "EPISODE: 276 - FINAL SCORE: 195 - Temperature: 0.004202444487046051\n",
            "EPISODE: 277 - FINAL SCORE: 140 - Temperature: 0.004095608778472295\n",
            "EPISODE: 278 - FINAL SCORE: 185 - Temperature: 0.003991489076894382\n",
            "EPISODE: 279 - FINAL SCORE: 177 - Temperature: 0.0038900163352296457\n",
            "EPISODE: 280 - FINAL SCORE: 229 - Temperature: 0.003791123261729496\n",
            "Updating target network...\n",
            "EPISODE: 281 - FINAL SCORE: 172 - Temperature: 0.003694744275354826\n",
            "EPISODE: 282 - FINAL SCORE: 143 - Temperature: 0.0036008154622858826\n",
            "EPISODE: 283 - FINAL SCORE: 294 - Temperature: 0.0035092745335377536\n",
            "EPISODE: 284 - FINAL SCORE: 193 - Temperature: 0.003420060783653368\n",
            "EPISODE: 285 - FINAL SCORE: 260 - Temperature: 0.0033331150504466085\n",
            "EPISODE: 286 - FINAL SCORE: 161 - Temperature: 0.003248379675768854\n",
            "EPISODE: 287 - FINAL SCORE: 233 - Temperature: 0.003165798467272916\n",
            "EPISODE: 288 - FINAL SCORE: 211 - Temperature: 0.0030853166611490355\n",
            "EPISODE: 289 - FINAL SCORE: 152 - Temperature: 0.003006880885808201\n",
            "EPISODE: 290 - FINAL SCORE: 215 - Temperature: 0.0029304391264887326\n",
            "Updating target network...\n",
            "EPISODE: 291 - FINAL SCORE: 205 - Temperature: 0.0028559406907626376\n",
            "EPISODE: 292 - FINAL SCORE: 180 - Temperature: 0.0027833361749188793\n",
            "EPISODE: 293 - FINAL SCORE: 146 - Temperature: 0.0027125774312012573\n",
            "EPISODE: 294 - FINAL SCORE: 162 - Temperature: 0.0026436175358791735\n",
            "EPISODE: 295 - FINAL SCORE: 229 - Temperature: 0.0025764107581301154\n",
            "EPISODE: 296 - FINAL SCORE: 173 - Temperature: 0.0025109125297132166\n",
            "EPISODE: 297 - FINAL SCORE: 154 - Temperature: 0.0024470794154137837\n",
            "EPISODE: 298 - FINAL SCORE: 215 - Temperature: 0.0023848690842391894\n",
            "EPISODE: 299 - FINAL SCORE: 230 - Temperature: 0.002324240281347034\n",
            "EPISODE: 300 - FINAL SCORE: 149 - Temperature: 0.002265152800686958\n",
            "Updating target network...\n",
            "EPISODE: 301 - FINAL SCORE: 163 - Temperature: 0.002207567458337957\n",
            "EPISODE: 302 - FINAL SCORE: 242 - Temperature: 0.0021514460665235276\n",
            "EPISODE: 303 - FINAL SCORE: 95 - Temperature: 0.002096751408287405\n",
            "EPISODE: 304 - FINAL SCORE: 434 - Temperature: 0.0020434472128131034\n",
            "EPISODE: 305 - FINAL SCORE: 233 - Temperature: 0.0019914981313708855\n",
            "EPISODE: 306 - FINAL SCORE: 242 - Temperature: 0.0019408697138762207\n",
            "EPISODE: 307 - FINAL SCORE: 138 - Temperature: 0.001891528386044176\n",
            "EPISODE: 308 - FINAL SCORE: 259 - Temperature: 0.0018434414271245952\n",
            "EPISODE: 309 - FINAL SCORE: 76 - Temperature: 0.0017965769482033026\n",
            "EPISODE: 310 - FINAL SCORE: 70 - Temperature: 0.0017509038710549374\n",
            "Updating target network...\n",
            "EPISODE: 311 - FINAL SCORE: 307 - Temperature: 0.0017063919075333985\n",
            "EPISODE: 312 - FINAL SCORE: 299 - Temperature: 0.0016630115394862296\n",
            "EPISODE: 313 - FINAL SCORE: 224 - Temperature: 0.0016207339991796284\n",
            "EPISODE: 314 - FINAL SCORE: 219 - Temperature: 0.0015795312502210946\n",
            "EPISODE: 315 - FINAL SCORE: 187 - Temperature: 0.0015393759689670697\n",
            "EPISODE: 316 - FINAL SCORE: 229 - Temperature: 0.0015002415264032346\n",
            "EPISODE: 317 - FINAL SCORE: 160 - Temperature: 0.0014621019704854537\n",
            "EPISODE: 318 - FINAL SCORE: 233 - Temperature: 0.0014249320089296507\n",
            "EPISODE: 319 - FINAL SCORE: 133 - Temperature: 0.0013887069924392052\n",
            "EPISODE: 320 - FINAL SCORE: 367 - Temperature: 0.0013534028983587481\n",
            "Updating target network...\n",
            "EPISODE: 321 - FINAL SCORE: 158 - Temperature: 0.0013189963147435134\n",
            "EPISODE: 322 - FINAL SCORE: 145 - Temperature: 0.0012854644248336848\n",
            "EPISODE: 323 - FINAL SCORE: 90 - Temperature: 0.0012527849919234367\n",
            "EPISODE: 324 - FINAL SCORE: 149 - Temperature: 0.0012209363446146447\n",
            "EPISODE: 325 - FINAL SCORE: 134 - Temperature: 0.0011898973624454728\n",
            "EPISODE: 326 - FINAL SCORE: 129 - Temperature: 0.0011596474618843207\n",
            "EPISODE: 327 - FINAL SCORE: 146 - Temperature: 0.0011301665826798331\n",
            "EPISODE: 328 - FINAL SCORE: 208 - Temperature: 0.0011014351745579256\n",
            "EPISODE: 329 - FINAL SCORE: 158 - Temperature: 0.0010734341842570001\n",
            "EPISODE: 330 - FINAL SCORE: 188 - Temperature: 0.0010461450428927558\n",
            "Updating target network...\n",
            "EPISODE: 331 - FINAL SCORE: 137 - Temperature: 0.0010195496536442162\n",
            "EPISODE: 332 - FINAL SCORE: 145 - Temperature: 0.0009936303797528027\n",
            "EPISODE: 333 - FINAL SCORE: 500 - Temperature: 0.0009683700328265026\n",
            "EPISODE: 334 - FINAL SCORE: 343 - Temperature: 0.0009437518614413686\n",
            "EPISODE: 335 - FINAL SCORE: 175 - Temperature: 0.0009197595400327968\n",
            "EPISODE: 336 - FINAL SCORE: 142 - Temperature: 0.0008963771580692111\n",
            "EPISODE: 337 - FINAL SCORE: 338 - Temperature: 0.0008735892095009796\n",
            "EPISODE: 338 - FINAL SCORE: 156 - Temperature: 0.0008513805824775617\n",
            "EPISODE: 339 - FINAL SCORE: 356 - Temperature: 0.0008297365493260703\n",
            "EPISODE: 340 - FINAL SCORE: 321 - Temperature: 0.0008086427567846002\n",
            "Updating target network...\n",
            "EPISODE: 341 - FINAL SCORE: 162 - Temperature: 0.0007880852164838493\n",
            "EPISODE: 342 - FINAL SCORE: 340 - Temperature: 0.0007680502956707165\n",
            "EPISODE: 343 - FINAL SCORE: 344 - Temperature: 0.0007485247081677293\n",
            "EPISODE: 344 - FINAL SCORE: 345 - Temperature: 0.0007294955055623014\n",
            "EPISODE: 345 - FINAL SCORE: 146 - Temperature: 0.00071095006861998\n",
            "EPISODE: 346 - FINAL SCORE: 165 - Temperature: 0.0006928760989159885\n",
            "EPISODE: 347 - FINAL SCORE: 141 - Temperature: 0.0006752616106795143\n",
            "EPISODE: 348 - FINAL SCORE: 157 - Temperature: 0.0006580949228453314\n",
            "EPISODE: 349 - FINAL SCORE: 349 - Temperature: 0.0006413646513074931\n",
            "EPISODE: 350 - FINAL SCORE: 374 - Temperature: 0.0006250597013699485\n",
            "Updating target network...\n",
            "EPISODE: 351 - FINAL SCORE: 260 - Temperature: 0.0006091692603890855\n",
            "EPISODE: 352 - FINAL SCORE: 189 - Temperature: 0.0005936827906033145\n",
            "EPISODE: 353 - FINAL SCORE: 122 - Temperature: 0.000578590022144942\n",
            "EPISODE: 354 - FINAL SCORE: 413 - Temperature: 0.0005638809462296978\n",
            "EPISODE: 355 - FINAL SCORE: 186 - Temperature: 0.0005495458085193994\n",
            "EPISODE: 356 - FINAL SCORE: 164 - Temperature: 0.0005355751026533532\n",
            "EPISODE: 357 - FINAL SCORE: 365 - Temperature: 0.0005219595639442023\n",
            "EPISODE: 358 - FINAL SCORE: 161 - Temperature: 0.0005086901632340398\n",
            "EPISODE: 359 - FINAL SCORE: 202 - Temperature: 0.0004957581009067135\n",
            "EPISODE: 360 - FINAL SCORE: 165 - Temperature: 0.0004831548010523524\n",
            "Updating target network...\n",
            "EPISODE: 361 - FINAL SCORE: 179 - Temperature: 0.000470871905780243\n",
            "EPISODE: 362 - FINAL SCORE: 447 - Temperature: 0.00045890126967628635\n",
            "EPISODE: 363 - FINAL SCORE: 500 - Temperature: 0.00044723495440135837\n",
            "EPISODE: 364 - FINAL SCORE: 241 - Temperature: 0.0004358652234269925\n",
            "EPISODE: 365 - FINAL SCORE: 500 - Temperature: 0.00042478453690489336\n",
            "EPISODE: 366 - FINAL SCORE: 474 - Temperature: 0.0004139855466668786\n",
            "EPISODE: 367 - FINAL SCORE: 406 - Temperature: 0.00040346109135193446\n",
            "EPISODE: 368 - FINAL SCORE: 214 - Temperature: 0.00039320419165715155\n",
            "EPISODE: 369 - FINAL SCORE: 239 - Temperature: 0.00038320804570939374\n",
            "EPISODE: 370 - FINAL SCORE: 261 - Temperature: 0.00037346602455462887\n",
            "Updating target network...\n",
            "EPISODE: 371 - FINAL SCORE: 245 - Temperature: 0.00036397166776193195\n",
            "EPISODE: 372 - FINAL SCORE: 463 - Temperature: 0.0003547186791392434\n",
            "EPISODE: 373 - FINAL SCORE: 188 - Temperature: 0.0003457009225580432\n",
            "EPISODE: 374 - FINAL SCORE: 186 - Temperature: 0.0003369124178841717\n",
            "EPISODE: 375 - FINAL SCORE: 500 - Temperature: 0.00032834733701209726\n",
            "EPISODE: 376 - FINAL SCORE: 439 - Temperature: 0.00032000000000000247\n",
            "EPISODE: 377 - FINAL SCORE: 442 - Temperature: 0.00031186487130312516\n",
            "EPISODE: 378 - FINAL SCORE: 177 - Temperature: 0.00030393655610285646\n",
            "EPISODE: 379 - FINAL SCORE: 446 - Temperature: 0.0002962097967291615\n",
            "EPISODE: 380 - FINAL SCORE: 480 - Temperature: 0.00028867946917395036\n",
            "Updating target network...\n",
            "EPISODE: 381 - FINAL SCORE: 500 - Temperature: 0.0002813405796930869\n",
            "EPISODE: 382 - FINAL SCORE: 180 - Temperature: 0.00027418826149478283\n",
            "EPISODE: 383 - FINAL SCORE: 189 - Temperature: 0.00026721777151217943\n",
            "EPISODE: 384 - FINAL SCORE: 172 - Temperature: 0.0002604244872579784\n",
            "EPISODE: 385 - FINAL SCORE: 225 - Temperature: 0.000253803903759035\n",
            "EPISODE: 386 - FINAL SCORE: 500 - Temperature: 0.00024735163056887997\n",
            "EPISODE: 387 - FINAL SCORE: 263 - Temperature: 0.00024106338885619162\n",
            "EPISODE: 388 - FINAL SCORE: 500 - Temperature: 0.00023493500856728384\n",
            "EPISODE: 389 - FINAL SCORE: 500 - Temperature: 0.00022896242566073133\n",
            "EPISODE: 390 - FINAL SCORE: 182 - Temperature: 0.00022314167941229622\n",
            "Updating target network...\n",
            "EPISODE: 391 - FINAL SCORE: 500 - Temperature: 0.00021746890978837014\n",
            "EPISODE: 392 - FINAL SCORE: 500 - Temperature: 0.00021194035488618894\n",
            "EPISODE: 393 - FINAL SCORE: 289 - Temperature: 0.00020655234843912338\n",
            "EPISODE: 394 - FINAL SCORE: 500 - Temperature: 0.00020130131738539057\n",
            "EPISODE: 395 - FINAL SCORE: 270 - Temperature: 0.00019618377949857468\n",
            "EPISODE: 396 - FINAL SCORE: 286 - Temperature: 0.00019119634107838502\n",
            "EPISODE: 397 - FINAL SCORE: 500 - Temperature: 0.00018633569470012033\n",
            "EPISODE: 398 - FINAL SCORE: 293 - Temperature: 0.00018159861702134688\n",
            "EPISODE: 399 - FINAL SCORE: 350 - Temperature: 0.0001769819666443357\n",
            "EPISODE: 400 - FINAL SCORE: 348 - Temperature: 0.00017248268203284161\n",
            "Updating target network...\n",
            "EPISODE: 401 - FINAL SCORE: 500 - Temperature: 0.0001680977794818425\n",
            "EPISODE: 402 - FINAL SCORE: 500 - Temperature: 0.00016382435113889224\n",
            "EPISODE: 403 - FINAL SCORE: 500 - Temperature: 0.00015965956307577571\n",
            "EPISODE: 404 - FINAL SCORE: 500 - Temperature: 0.00015560065340918623\n",
            "EPISODE: 405 - FINAL SCORE: 500 - Temperature: 0.00015164493046918023\n",
            "EPISODE: 406 - FINAL SCORE: 381 - Temperature: 0.0001477897710141934\n",
            "EPISODE: 407 - FINAL SCORE: 380 - Temperature: 0.00014403261849143566\n",
            "EPISODE: 408 - FINAL SCORE: 447 - Temperature: 0.0001403709813415105\n",
            "EPISODE: 409 - FINAL SCORE: 500 - Temperature: 0.00013680243134613508\n",
            "EPISODE: 410 - FINAL SCORE: 500 - Temperature: 0.0001333246020178647\n",
            "Updating target network...\n",
            "EPISODE: 411 - FINAL SCORE: 500 - Temperature: 0.00012993518703075449\n",
            "EPISODE: 412 - FINAL SCORE: 500 - Temperature: 0.00012663193869091698\n",
            "EPISODE: 413 - FINAL SCORE: 500 - Temperature: 0.00012341266644596172\n",
            "EPISODE: 414 - FINAL SCORE: 500 - Temperature: 0.00012027523543232835\n",
            "EPISODE: 415 - FINAL SCORE: 500 - Temperature: 0.00011721756505954959\n",
            "EPISODE: 416 - FINAL SCORE: 500 - Temperature: 0.00011423762763050579\n",
            "EPISODE: 417 - FINAL SCORE: 500 - Temperature: 0.00011133344699675547\n",
            "EPISODE: 418 - FINAL SCORE: 497 - Temperature: 0.00010850309724805057\n",
            "EPISODE: 419 - FINAL SCORE: 500 - Temperature: 0.0001057447014351672\n",
            "EPISODE: 420 - FINAL SCORE: 500 - Temperature: 0.00010305643032520488\n",
            "Updating target network...\n",
            "EPISODE: 421 - FINAL SCORE: 500 - Temperature: 0.00010043650118852894\n",
            "EPISODE: 422 - FINAL SCORE: 500 - Temperature: 9.78831766165516e-05\n",
            "EPISODE: 423 - FINAL SCORE: 500 - Temperature: 9.539476336956781e-05\n",
            "EPISODE: 424 - FINAL SCORE: 500 - Temperature: 9.29696112538816e-05\n",
            "EPISODE: 425 - FINAL SCORE: 500 - Temperature: 9.060611202747857e-05\n",
            "EPISODE: 426 - FINAL SCORE: 500 - Temperature: 8.830269833351852e-05\n",
            "EPISODE: 427 - FINAL SCORE: 500 - Temperature: 8.605784266094133e-05\n",
            "EPISODE: 428 - FINAL SCORE: 500 - Temperature: 8.387005633149641e-05\n",
            "EPISODE: 429 - FINAL SCORE: 500 - Temperature: 8.173788851252433e-05\n",
            "EPISODE: 430 - FINAL SCORE: 500 - Temperature: 7.965992525483563e-05\n",
            "Updating target network...\n",
            "EPISODE: 431 - FINAL SCORE: 500 - Temperature: 7.763478855504904e-05\n",
            "EPISODE: 432 - FINAL SCORE: 500 - Temperature: 7.566113544176724e-05\n",
            "EPISODE: 433 - FINAL SCORE: 500 - Temperature: 7.373765708498399e-05\n",
            "EPISODE: 434 - FINAL SCORE: 500 - Temperature: 7.186307792813229e-05\n",
            "EPISODE: 435 - FINAL SCORE: 500 - Temperature: 7.003615484219768e-05\n",
            "EPISODE: 436 - FINAL SCORE: 500 - Temperature: 6.825567630133612e-05\n",
            "EPISODE: 437 - FINAL SCORE: 500 - Temperature: 6.652046157944937e-05\n",
            "EPISODE: 438 - FINAL SCORE: 500 - Temperature: 6.48293599671853e-05\n",
            "EPISODE: 439 - FINAL SCORE: 500 - Temperature: 6.318125000884394e-05\n",
            "EPISODE: 440 - FINAL SCORE: 500 - Temperature: 6.157503875868294e-05\n",
            "Updating target network...\n",
            "EPISODE: 441 - FINAL SCORE: 500 - Temperature: 6.0009661056129535e-05\n",
            "EPISODE: 442 - FINAL SCORE: 500 - Temperature: 5.84840788194183e-05\n",
            "EPISODE: 443 - FINAL SCORE: 500 - Temperature: 5.699728035718618e-05\n",
            "EPISODE: 444 - FINAL SCORE: 500 - Temperature: 5.554827969756836e-05\n",
            "EPISODE: 445 - FINAL SCORE: 500 - Temperature: 5.413611593435006e-05\n",
            "EPISODE: 446 - FINAL SCORE: 500 - Temperature: 5.2759852589740684e-05\n",
            "EPISODE: 447 - FINAL SCORE: 500 - Temperature: 5.141857699334751e-05\n",
            "EPISODE: 448 - FINAL SCORE: 500 - Temperature: 5.01113996769376e-05\n",
            "EPISODE: 449 - FINAL SCORE: 500 - Temperature: 4.883745378458591e-05\n",
            "EPISODE: 450 - FINAL SCORE: 500 - Temperature: 4.759589449781903e-05\n",
            "Updating target network...\n",
            "EPISODE: 451 - FINAL SCORE: 500 - Temperature: 4.638589847537294e-05\n",
            "EPISODE: 452 - FINAL SCORE: 500 - Temperature: 4.520666330719344e-05\n",
            "EPISODE: 453 - FINAL SCORE: 500 - Temperature: 4.405740698231714e-05\n",
            "EPISODE: 454 - FINAL SCORE: 500 - Temperature: 4.293736737028011e-05\n",
            "EPISODE: 455 - FINAL SCORE: 500 - Temperature: 4.184580171571035e-05\n",
            "EPISODE: 456 - FINAL SCORE: 500 - Temperature: 4.078198614576876e-05\n",
            "EPISODE: 457 - FINAL SCORE: 500 - Temperature: 3.974521519011221e-05\n",
            "EPISODE: 458 - FINAL SCORE: 500 - Temperature: 3.8734801313060196e-05\n",
            "EPISODE: 459 - FINAL SCORE: 500 - Temperature: 3.775007445765485e-05\n",
            "EPISODE: 460 - FINAL SCORE: 500 - Temperature: 3.679038160131197e-05\n",
            "Updating target network...\n",
            "EPISODE: 461 - FINAL SCORE: 500 - Temperature: 3.5855086322768535e-05\n",
            "EPISODE: 462 - FINAL SCORE: 500 - Temperature: 3.494356838003927e-05\n",
            "EPISODE: 463 - FINAL SCORE: 500 - Temperature: 3.4055223299102555e-05\n",
            "EPISODE: 464 - FINAL SCORE: 500 - Temperature: 3.31894619730429e-05\n",
            "EPISODE: 465 - FINAL SCORE: 500 - Temperature: 3.234571027138409e-05\n",
            "EPISODE: 466 - FINAL SCORE: 500 - Temperature: 3.152340865935405e-05\n",
            "EPISODE: 467 - FINAL SCORE: 500 - Temperature: 3.0722011826828736e-05\n",
            "EPISODE: 468 - FINAL SCORE: 500 - Temperature: 2.9940988326709248e-05\n",
            "EPISODE: 469 - FINAL SCORE: 500 - Temperature: 2.917982022249213e-05\n",
            "EPISODE: 470 - FINAL SCORE: 500 - Temperature: 2.843800274479927e-05\n",
            "Updating target network...\n",
            "EPISODE: 471 - FINAL SCORE: 500 - Temperature: 2.7715043956639613e-05\n",
            "EPISODE: 472 - FINAL SCORE: 500 - Temperature: 2.7010464427180633e-05\n",
            "EPISODE: 473 - FINAL SCORE: 500 - Temperature: 2.6323796913813326e-05\n",
            "EPISODE: 474 - FINAL SCORE: 500 - Temperature: 2.565458605229979e-05\n",
            "EPISODE: 475 - FINAL SCORE: 500 - Temperature: 2.5002388054798007e-05\n",
            "EPISODE: 476 - FINAL SCORE: 500 - Temperature: 2.436677041556348e-05\n",
            "EPISODE: 477 - FINAL SCORE: 500 - Temperature: 2.374731162413264e-05\n",
            "EPISODE: 478 - FINAL SCORE: 500 - Temperature: 2.3143600885797742e-05\n",
            "EPISODE: 479 - FINAL SCORE: 500 - Temperature: 2.255523784918797e-05\n",
            "EPISODE: 480 - FINAL SCORE: 500 - Temperature: 2.198183234077603e-05\n",
            "Updating target network...\n",
            "EPISODE: 481 - FINAL SCORE: 500 - Temperature: 2.1423004106134183e-05\n",
            "EPISODE: 482 - FINAL SCORE: 500 - Temperature: 2.087838255776815e-05\n",
            "EPISODE: 483 - FINAL SCORE: 500 - Temperature: 2.0347606529361644e-05\n",
            "EPISODE: 484 - FINAL SCORE: 500 - Temperature: 1.9830324036268593e-05\n",
            "EPISODE: 485 - FINAL SCORE: 500 - Temperature: 1.9326192042094145e-05\n",
            "EPISODE: 486 - FINAL SCORE: 500 - Temperature: 1.8834876231209768e-05\n",
            "EPISODE: 487 - FINAL SCORE: 439 - Temperature: 1.83560507870515e-05\n",
            "EPISODE: 488 - FINAL SCORE: 500 - Temperature: 1.788939817605438e-05\n",
            "EPISODE: 489 - FINAL SCORE: 500 - Temperature: 1.7434608937079745e-05\n",
            "EPISODE: 490 - FINAL SCORE: 500 - Temperature: 1.6991381476195776e-05\n",
            "Updating target network...\n",
            "EPISODE: 491 - FINAL SCORE: 427 - Temperature: 1.6559421866675187e-05\n",
            "EPISODE: 492 - FINAL SCORE: 500 - Temperature: 1.613844365407742e-05\n",
            "EPISODE: 493 - FINAL SCORE: 500 - Temperature: 1.57281676662861e-05\n",
            "EPISODE: 494 - FINAL SCORE: 500 - Temperature: 1.5328321828375787e-05\n",
            "EPISODE: 495 - FINAL SCORE: 500 - Temperature: 1.4938640982185195e-05\n",
            "EPISODE: 496 - FINAL SCORE: 500 - Temperature: 1.4558866710477315e-05\n",
            "EPISODE: 497 - FINAL SCORE: 500 - Temperature: 1.418874716556977e-05\n",
            "EPISODE: 498 - FINAL SCORE: 500 - Temperature: 1.3828036902321763e-05\n",
            "EPISODE: 499 - FINAL SCORE: 500 - Temperature: 1.3476496715366903e-05\n",
            "EPISODE: 500 - FINAL SCORE: 500 - Temperature: 1.3133893480483924e-05\n",
            "\n"
          ],
          "name": "stdout"
        }
      ]
    },
    {
      "cell_type": "code",
      "metadata": {
        "id": "7FQjjVTiP2T6"
      },
      "source": [
        "# Display the videos, not required outside Colab\n",
        "show_videos()"
      ],
      "execution_count": null,
      "outputs": []
    },
    {
      "cell_type": "code",
      "metadata": {
        "id": "4QhETUgjzUJs",
        "colab": {
          "base_uri": "https://localhost:8080/",
          "height": 248
        },
        "outputId": "e897c5b1-f29c-4b48-c145-e17e9b124f2a"
      },
      "source": [
        "\n",
        "fig = plt.figure(figsize=(20,5))\n",
        "plt.plot(range(len(results)),results, marker=\"o\", color=\"red\", linestyle=\"\", label='Single results')\n",
        "plt.plot(mean_results, color=\"green\",label='Mean results')\n",
        "plt.xlabel(\"Number of episodes\")\n",
        "plt.ylabel(\"Score\")\n",
        "plt.legend()\n",
        "plt.grid()\n",
        "plt.tight_layout()\n",
        "plt.show()"
      ],
      "execution_count": null,
      "outputs": [
        {
          "output_type": "display_data",
          "data": {
            "image/png": "[encoded data removed]",
            "text/plain": [
              "<Figure size 1440x360 with 1 Axes>"
            ]
          },
          "metadata": {
            "tags": [],
            "needs_background": "light"
          }
        }
      ]
    },
    {
      "cell_type": "markdown",
      "metadata": {
        "id": "JkG9iDZTIhzc"
      },
      "source": [
        "# Final test"
      ]
    },
    {
      "cell_type": "code",
      "metadata": {
        "id": "vJKgnu3_IjWE",
        "colab": {
          "base_uri": "https://localhost:8080/"
        },
        "outputId": "dcb732f0-5fbf-4c85-c9d8-2cbb8e066fce"
      },
      "source": [
        "# Initialize the Gym environment\n",
        "env = gym.make('CartPole-v1') \n",
        "env.seed(1) # Set a random seed for the environment (reproducible results)\n",
        "\n",
        "# This is for creating the output video in Colab, not required outside Colab\n",
        "env = wrap_env(env, video_callable=lambda episode_id: True) # Save a video every episode\n",
        "\n",
        "# Let's try for a total of 10 episodes\n",
        "for num_episode in range(10): \n",
        "    # Reset the environment and get the initial state\n",
        "    state = env.reset()\n",
        "    # Reset the score. The final score will be the total amount of steps before the pole falls\n",
        "    score = 0\n",
        "    done = False\n",
        "    # Go on until the pole falls off or the score reach 490\n",
        "    while not done:\n",
        "      # Choose the best action (temperature 0)\n",
        "      action, q_values = choose_action_softmax(policy_net, state, temperature=0)\n",
        "      # Apply the action and get the next state, the reward and a flag \"done\" that is True if the game is ended\n",
        "      next_state, reward, done, info = env.step(action)\n",
        "      # Visually render the environment\n",
        "      env.render()\n",
        "      # Update the final score (+1 for each step)\n",
        "      score += reward \n",
        "      # Set the current state for the next iteration\n",
        "      state = next_state\n",
        "      # Check if the episode ended (the pole fell down)\n",
        "    # Print the final score\n",
        "    print(f\"EPISODE {num_episode + 1} - FINAL SCORE: {score}\") \n",
        "env.close()"
      ],
      "execution_count": null,
      "outputs": [
        {
          "output_type": "stream",
          "text": [
            "EPISODE 1 - FINAL SCORE: 500.0\n",
            "EPISODE 2 - FINAL SCORE: 500.0\n",
            "EPISODE 3 - FINAL SCORE: 500.0\n",
            "EPISODE 4 - FINAL SCORE: 500.0\n",
            "EPISODE 5 - FINAL SCORE: 500.0\n",
            "EPISODE 6 - FINAL SCORE: 500.0\n",
            "EPISODE 7 - FINAL SCORE: 500.0\n",
            "EPISODE 8 - FINAL SCORE: 500.0\n",
            "EPISODE 9 - FINAL SCORE: 500.0\n",
            "EPISODE 10 - FINAL SCORE: 500.0\n"
          ],
          "name": "stdout"
        }
      ]
    },
    {
      "cell_type": "code",
      "metadata": {
        "id": "mxdtGJutLqlw"
      },
      "source": [
        "# Display the videos, not required outside Colab\n",
        "show_videos()"
      ],
      "execution_count": null,
      "outputs": []
    },
    {
      "cell_type": "markdown",
      "metadata": {
        "id": "Oq3IcCPteTXm"
      },
      "source": [
        "Test with initial perturbation"
      ]
    },
    {
      "cell_type": "code",
      "metadata": {
        "id": "aVUJnJud7NW8",
        "colab": {
          "base_uri": "https://localhost:8080/"
        },
        "outputId": "11f8f6fc-c3ec-4eb0-a05e-036f1e526dbb"
      },
      "source": [
        "    env = wrap_env(env, video_callable=lambda episode_id: True) # Save a video every episode\n",
        " \n",
        "    # Reset the environment and get the initial state\n",
        "    state = env.reset()\n",
        "    state, reward, done, info = env.step(1)\n",
        "    state, reward, done, info = env.step(1)\n",
        "    state, reward, done, info = env.step(1)\n",
        "    state, reward, done, info = env.step(1)\n",
        "    state, reward, done, info = env.step(0)\n",
        "    state, reward, done, info = env.step(0)\n",
        "    state, reward, done, info = env.step(0)\n",
        "    state, reward, done, info = env.step(0)\n",
        "    state, reward, done, info = env.step(1)\n",
        "    state, reward, done, info = env.step(1)\n",
        "    state, reward, done, info = env.step(1)\n",
        "    state, reward, done, info = env.step(1)\n",
        "    state, reward, done, info = env.step(0)\n",
        "    state, reward, done, info = env.step(0)\n",
        "    state, reward, done, info = env.step(0)\n",
        "\n",
        "\n",
        "\n",
        "    # Reset the score. The final score will be the total amount of steps before the pole falls\n",
        "    score = 0\n",
        "    done = False\n",
        "    # Go on until the pole falls off or the score reach 490\n",
        "    while not done:\n",
        "      # Choose the best action (temperature 0)\n",
        "      action, q_values = choose_action_softmax(policy_net, state, temperature=0)\n",
        "      # Apply the action and get the next state, the reward and a flag \"done\" that is True if the game is ended\n",
        "      next_state, reward, done, info = env.step(action)\n",
        "      # Visually render the environment\n",
        "      env.render()\n",
        "      # Update the final score (+1 for each step)\n",
        "      score += reward \n",
        "      # Set the current state for the next iteration\n",
        "      state = next_state\n",
        "      # Check if the episode ended (the pole fell down)\n",
        "    # Print the final score\n",
        "    print(f\" FINAL SCORE: {score}\") \n",
        "env.close()"
      ],
      "execution_count": null,
      "outputs": [
        {
          "output_type": "stream",
          "text": [
            " FINAL SCORE: 485.0\n"
          ],
          "name": "stdout"
        }
      ]
    },
    {
      "cell_type": "code",
      "metadata": {
        "id": "-MxSYyy-7c4C"
      },
      "source": [
        "show_videos()"
      ],
      "execution_count": null,
      "outputs": []
    }
  ]
}